{
  "cells": [
    {
      "cell_type": "markdown",
      "metadata": {
        "id": "IEI2-l1aTd76"
      },
      "source": [
        "# STOR 566, Homework 5\n",
        "### Instructor: Yao Li\n",
        "### Keywords: Adversarial Robustness\n",
        "### Due date: Oct 30, 11:55pm\n",
        "### **Submission Instruction**\n",
        "\n",
        "- Please download this script and use it to answer the questions in the homework. \n",
        "- For submission, please include your code, code output and answers in the script and submit the ipynb file on sakai.\n",
        "- Please don't modify existing cells. But you can add cells between the exercise statements.\n",
        "- To make markdown, please switch the cell type to markdown (from code) - you can hit 'm' when you are in command mode - and use the markdown language. For a brief tutorial see: https://daringfireball.net/projects/markdown/syntax\n",
        "\n",
        "### **References:**\n",
        "\n",
        "- You can follow the setup instructions at [here](https://pytorch.org/get-started/locally/).\n",
        "- A useful tutorial on learning pytorch by examples at [here](https://pytorch.org/tutorials/beginner/pytorch_with_examples.html).\n",
        "- Check Pytorch optimization methods at [here](https://pytorch.org/docs/stable/optim.html).\n",
        "- Check implementation of different attack methods at [here](https://github.com/Harry24k/adversarial-attacks-pytorch) for reference. \n",
        "\n",
        "\n",
        "### **Method Review**\n",
        "\n",
        "- PGD: L-infinity norm restricted attack\n",
        "\t\\begin{align}\n",
        "\tx^{t+1}=\\Pi_{\\epsilon}\\{x^t+\\alpha\\cdot\\text{sign}(\\nabla_xL(\\theta,x,y)),x_0\\}\n",
        "\t\\end{align}\t\n",
        "    - $x^{t+1}$: the adversarial example generated from step t+1\n",
        "    - $\\epsilon$: epsilon, which controls the perturbation\n",
        "    - $\\Pi_\\epsilon$: project the input to the epsilon-ball around $x_0$\n",
        "    - $\\alpha$: step size\n",
        "    - $\\text{sign}(\\nabla_xL(\\theta,x,y))$: sign of gradient\n",
        "    - Don't forget to project $x^{t+1}$ to the valid pixel value range. If you don't modify the data loader, the valid pixel value range is $[0,1]$.\n",
        "\n",
        "- C&W: L-2 norm targeted attack\n",
        "\t\\begin{align}\n",
        "\tx^{*}=\\arg\\min_{x}\\|x-x_0\\|^2+\\lambda\\cdot\\max\\{\\max_{j\\ne t}f_j(x)-f_t(x),\\kappa\\}\n",
        "\t\\end{align}\t\n",
        "    - $x^{*}$: the adversarial example\n",
        "    - $\\lambda$: parameter that controls the balance between distortion and the attack success. \n",
        "    - $f_j(x)$: the logits (predicted score) of class j\n",
        "    - $t$: the target class\n",
        "    - $\\kappa$: confidence\n",
        "    - Don't forget to project the $x^{*}$ to $[0,1]$.\n",
        "\n",
        "- Adversarial training\n",
        "\t\\begin{align}\n",
        "\t\\arg\\min_\\theta E_{(x,y)\\sim D}\\{\\max_{\\|\\delta\\|\\le\\epsilon}L(\\theta,x+\\delta,y)\\}\n",
        "\t\\end{align}\t\n",
        "    - $\\theta$: model parameters\n",
        "    - $D$: clean data distribution\n",
        "    - $\\delta$: adversarial perturbation\n",
        "    - For each batch, generate adversarial examples based on the batch of samples, then update the model with adversarial examples \n",
        "    \n",
        "### **Evaluation Metrics:**\n",
        "\n",
        "- Testing accuracy: \n",
        "\t\\begin{align}\n",
        "\t\\frac{1}{N}\\sum_{i=1}^N {\\bf 1}(\\hat{y}_i=y_i)\n",
        "\t\\end{align}\t\n",
        "    - $N$: the total number of samples in the testing set\n",
        "    - $y_i$: true label of sample $x_i$\n",
        "    - $\\hat{y}_i$: predicted label by the model\n",
        "\n",
        "- Robust Testing Accuracy: testing accuracy on adversarial examples\n",
        "\n",
        "\t\\begin{align}\n",
        "\t\\frac{1}{N}\\sum_{i=1}^N {\\bf 1}(c(x^*_i)=y_i)\n",
        "\t\\end{align}\t\n",
        "    - $N$: the total number of samples in the testing set\n",
        "    - $x^*_i$: adversarial example generated from $x_i$\n",
        "    - $c(\\cdot)$: returns the label predicted by the model\n",
        "    - $c(x^*_i)$: predicted label of adversarial example by the model\n",
        "    - $y_i$: true label of sample $x_i$"
      ]
    },
    {
      "cell_type": "markdown",
      "metadata": {
        "id": "0dfB-w80VX8M"
      },
      "source": [
        "## Problem 1 (50 points)\n",
        "\n",
        "In this problem you will practice implementing **PGD attack** and **targetted C&W attack** on CIFAR10 data set.\n",
        "\n",
        "**Data.** You will use CIFAR10 classification dataset (10 classes). Pytorch/torchvision has provide a useful dataloader to automatically download and load the data into batches. Code of the data loader has been provided in the template. Please don't modify the data loading part."
      ]
    },
    {
      "cell_type": "code",
      "execution_count": 1,
      "metadata": {
        "colab": {
          "base_uri": "https://localhost:8080/"
        },
        "id": "2rdZDWKfaerL",
        "outputId": "48a1a025-9351-4175-b08f-a9cb2914c1dd"
      },
      "outputs": [
        {
          "output_type": "stream",
          "name": "stdout",
          "text": [
            "Mounted at /content/drive\n"
          ]
        }
      ],
      "source": [
        "## The following code can change the working directory to your google drive\n",
        "## So you don't need to download the data every time\n",
        "\n",
        "import os\n",
        "from google.colab import drive \n",
        "drive.mount('/content/drive')\n",
        "os.chdir('/content/drive/MyDrive/Colab Notebooks')\n"
      ]
    },
    {
      "cell_type": "code",
      "execution_count": 2,
      "metadata": {
        "id": "5IWi6SYhtO8n"
      },
      "outputs": [],
      "source": [
        "import time\n",
        "import copy\n",
        "import torch\n",
        "import torch.nn as nn\n",
        "import torch.optim as optim\n",
        "import torch.nn.functional as F\n",
        "import numpy as np\n",
        "import torch.utils.data as td\n",
        "import random, time\n",
        "import matplotlib.pyplot as plt\n",
        "import torchvision\n",
        "import PIL.Image as Image\n",
        "from tqdm import tqdm\n",
        "from torch.autograd import Variable\n",
        "from torchvision import datasets, transforms\n",
        "from torch.utils.data.sampler import SubsetRandomSampler\n",
        "device = torch.device(\"cuda\") if torch.cuda.is_available() else torch.device(\"cpu\")"
      ]
    },
    {
      "cell_type": "code",
      "execution_count": 46,
      "metadata": {
        "colab": {
          "base_uri": "https://localhost:8080/"
        },
        "id": "-6vPOhtotONk",
        "outputId": "ca8f73bb-e469-4288-f97d-c34d6e9c1055"
      },
      "outputs": [
        {
          "output_type": "stream",
          "name": "stdout",
          "text": [
            "Files already downloaded and verified\n"
          ]
        }
      ],
      "source": [
        "## Data loading code chunk, please don't modify it. \n",
        "## However, you can adjust the batch size if you want to.\n",
        "batch_size_cifar = 128\n",
        "\n",
        "def cifar_loaders(batch_size, shuffle_test=False): \n",
        "    data_dir = './data'\n",
        "    train = datasets.CIFAR10(data_dir, train=True, download=True, \n",
        "        transform=transforms.Compose([\n",
        "            transforms.ToTensor(),\n",
        "        ]))\n",
        "    # Once you have downloaded the data by setting download=True, you can\n",
        "    # change download=True to download=False\n",
        "    test = datasets.CIFAR10(data_dir, train=False, \n",
        "        transform=transforms.Compose([transforms.ToTensor()]))\n",
        "    train_loader = torch.utils.data.DataLoader(train, batch_size=batch_size,\n",
        "        shuffle=True, pin_memory=True)\n",
        "    test_loader = torch.utils.data.DataLoader(test, batch_size=batch_size,\n",
        "        shuffle=shuffle_test, pin_memory=True)\n",
        "    return train_loader, test_loader\n",
        "\n",
        "train_cifar_loader, test_cifar_loader = cifar_loaders(batch_size_cifar)\n",
        "\n",
        "# Get the loader that only loads class 0 image (for question 1.d)\n",
        "def subset_loaders(batch_size=128): \n",
        "    data_dir = './data'\n",
        "    test = datasets.CIFAR10(data_dir, train=False, \n",
        "        transform=transforms.Compose([transforms.ToTensor()]))\n",
        "    subset_indices = (torch.tensor(test.targets) == 0).nonzero()\n",
        "    test_loader = torch.utils.data.DataLoader(test,batch_size=batch_size, \n",
        "          shuffle=False,sampler=SubsetRandomSampler(subset_indices))\n",
        "    return test_loader\n",
        "\n",
        "sub_loader = subset_loaders()"
      ]
    },
    {
      "cell_type": "code",
      "execution_count": 47,
      "metadata": {
        "colab": {
          "base_uri": "https://localhost:8080/"
        },
        "id": "rYzAcWqaRwV8",
        "outputId": "6acb7a5f-32e2-4a1b-cbe2-3c365d4e13d5"
      },
      "outputs": [
        {
          "output_type": "execute_result",
          "data": {
            "text/plain": [
              "VGG(\n",
              "  (features): Sequential(\n",
              "    (0): Conv2d(3, 64, kernel_size=(3, 3), stride=(1, 1), padding=(1, 1))\n",
              "    (1): BatchNorm2d(64, eps=1e-05, momentum=0.1, affine=True, track_running_stats=True)\n",
              "    (2): ReLU(inplace=True)\n",
              "    (3): MaxPool2d(kernel_size=2, stride=2, padding=0, dilation=1, ceil_mode=False)\n",
              "    (4): Conv2d(64, 128, kernel_size=(3, 3), stride=(1, 1), padding=(1, 1))\n",
              "    (5): BatchNorm2d(128, eps=1e-05, momentum=0.1, affine=True, track_running_stats=True)\n",
              "    (6): ReLU(inplace=True)\n",
              "    (7): MaxPool2d(kernel_size=2, stride=2, padding=0, dilation=1, ceil_mode=False)\n",
              "    (8): Conv2d(128, 256, kernel_size=(3, 3), stride=(1, 1), padding=(1, 1))\n",
              "    (9): BatchNorm2d(256, eps=1e-05, momentum=0.1, affine=True, track_running_stats=True)\n",
              "    (10): ReLU(inplace=True)\n",
              "    (11): Conv2d(256, 256, kernel_size=(3, 3), stride=(1, 1), padding=(1, 1))\n",
              "    (12): BatchNorm2d(256, eps=1e-05, momentum=0.1, affine=True, track_running_stats=True)\n",
              "    (13): ReLU(inplace=True)\n",
              "    (14): MaxPool2d(kernel_size=2, stride=2, padding=0, dilation=1, ceil_mode=False)\n",
              "    (15): Conv2d(256, 512, kernel_size=(3, 3), stride=(1, 1), padding=(1, 1))\n",
              "    (16): BatchNorm2d(512, eps=1e-05, momentum=0.1, affine=True, track_running_stats=True)\n",
              "    (17): ReLU(inplace=True)\n",
              "    (18): Conv2d(512, 512, kernel_size=(3, 3), stride=(1, 1), padding=(1, 1))\n",
              "    (19): BatchNorm2d(512, eps=1e-05, momentum=0.1, affine=True, track_running_stats=True)\n",
              "    (20): ReLU(inplace=True)\n",
              "    (21): MaxPool2d(kernel_size=2, stride=2, padding=0, dilation=1, ceil_mode=False)\n",
              "    (22): Conv2d(512, 512, kernel_size=(3, 3), stride=(1, 1), padding=(1, 1))\n",
              "    (23): BatchNorm2d(512, eps=1e-05, momentum=0.1, affine=True, track_running_stats=True)\n",
              "    (24): ReLU(inplace=True)\n",
              "    (25): Conv2d(512, 512, kernel_size=(3, 3), stride=(1, 1), padding=(1, 1))\n",
              "    (26): BatchNorm2d(512, eps=1e-05, momentum=0.1, affine=True, track_running_stats=True)\n",
              "    (27): ReLU(inplace=True)\n",
              "    (28): MaxPool2d(kernel_size=2, stride=2, padding=0, dilation=1, ceil_mode=False)\n",
              "  )\n",
              "  (avgpool): AdaptiveAvgPool2d(output_size=(1, 1))\n",
              "  (classifier): Sequential(\n",
              "    (0): Linear(in_features=512, out_features=4096, bias=True)\n",
              "    (1): ReLU(inplace=True)\n",
              "    (2): Dropout(p=0.5, inplace=False)\n",
              "    (3): Linear(in_features=4096, out_features=4096, bias=True)\n",
              "    (4): ReLU(inplace=True)\n",
              "    (5): Dropout(p=0.5, inplace=False)\n",
              "    (6): Linear(in_features=4096, out_features=10, bias=True)\n",
              "  )\n",
              ")"
            ]
          },
          "metadata": {},
          "execution_count": 47
        }
      ],
      "source": [
        "## Load the pre-trained VGG11bn model\n",
        "## For this step, you need to put the vgg.py and vgg11_bn.pt under your working directory\n",
        "## See vgg.py and vgg11_bn.pt and under the shared google drive folder of HW5 from the course website\n",
        "## The model is from https://github.com/huyvnphan/PyTorch_CIFAR10\n",
        "from vgg import vgg11_bn\n",
        "vgg11 = vgg11_bn()\n",
        "#vgg11 = vgg11_bn()(pretrained=True)\n",
        "vgg11.load_state_dict(torch.load('vgg11_bn.pt'))\n",
        "vgg11.to(device)"
      ]
    },
    {
      "cell_type": "markdown",
      "metadata": {
        "id": "FyRzP0bmbjlo"
      },
      "source": [
        "### **Problem Description.** Generate adversarial examples on CIFAR10 using PGD and C&W.\n",
        "\n",
        "### (a) (5 points) Check the testing accuracy of the pre-trained VGG11 model on the test set of CIFAR10. The expected testing accuracy is 92.39%. "
      ]
    },
    {
      "cell_type": "code",
      "execution_count": 48,
      "metadata": {
        "colab": {
          "base_uri": "https://localhost:8080/"
        },
        "id": "Uw5LG2iL8L3z",
        "outputId": "af8673df-ed21-49a8-8892-ad784e9b9e1b"
      },
      "outputs": [
        {
          "output_type": "stream",
          "name": "stdout",
          "text": [
            "Test Loss: 0.251\n",
            "Test Accuracy: 92.405\n"
          ]
        }
      ],
      "source": [
        "net = vgg11.to(device)\n",
        "criterion = nn.CrossEntropyLoss()\n",
        "\n",
        "with torch.no_grad():\n",
        "    net.eval()\n",
        "    # for each batch of images\n",
        "    running_accuracy = 0\n",
        "    running_loss = 0\n",
        "    for images, labels in test_cifar_loader:\n",
        "\n",
        "        # move images and model to device\n",
        "        images, labels = images.to(device), labels.to(device)\n",
        "\n",
        "        # forward\n",
        "        outputs = net(images)\n",
        "\n",
        "        # loss\n",
        "        loss = criterion(outputs, labels)\n",
        "        running_loss += loss.item()\n",
        "\n",
        "        # accuracy\n",
        "        ps = torch.exp(outputs)\n",
        "        top_p, top_class = ps.topk(1, dim=1)\n",
        "        equals = top_class == labels.view(*top_class.shape)\n",
        "        running_accuracy += torch.mean(equals.type(torch.FloatTensor)).item()\n",
        "\n",
        "average_loss = running_loss/len(test_cifar_loader)\n",
        "total_accuracy = running_accuracy/len(test_cifar_loader)\n",
        "print(\"Test Loss: {:.3f}\".format(average_loss))\n",
        "print(\"Test Accuracy: {:.3f}\".format(total_accuracy*100))       \n"
      ]
    },
    {
      "cell_type": "markdown",
      "metadata": {
        "id": "4QsLbbcobprs"
      },
      "source": [
        "### (b) (15 points) Implement PGD with L-infinity norm, epsilon=0.03, step size=0.01, max steps=20, to attack the pre-trained VGG11 and generate adversarial examples with the CIFAR10 test set. Report the robust testing accuracy."
      ]
    },
    {
      "cell_type": "code",
      "source": [
        "class PGDAttack(object):\n",
        "    def __init__(self, model=None, epsilon=0.03, steps=20, step_size=0.01):\n",
        "      self.model = model\n",
        "      self.epsilon = epsilon \n",
        "      self.steps =steps\n",
        "      self.step_size = step_size\n",
        "      self.cla_loss = nn.CrossEntropyLoss()\n",
        "    \n",
        "    def perturb(self, X_ori, y):\n",
        "      X = X_ori.clone()\n",
        "      y_var = y\n",
        "      for i in range(self.steps):\n",
        "        X.requires_grad=True\n",
        "        outputs = self.model(X)\n",
        "        loss = self.cla_loss(outputs, y_var)\n",
        "        loss.backward()\n",
        "        grad = X.grad.sign().detach()\n",
        "        X = X.detach() + self.step_size*grad.sign()\n",
        "        diff = X - X_ori\n",
        "        diff.clamp_(-self.epsilon, self.epsilon)\n",
        "        X.detach().copy_((diff+X_ori).clamp_(0, 1))\n",
        "      return X\n",
        "\n"
      ],
      "metadata": {
        "id": "D5s1z-LNEua3"
      },
      "execution_count": 49,
      "outputs": []
    },
    {
      "cell_type": "code",
      "source": [
        "def attack_over_test_data(model, adversary, test_loader):\n",
        "  adversary_model = model\n",
        "  total_correct = 0\n",
        "  total_samples = len(test_loader.dataset)\n",
        "  ntested = 0\n",
        "    \n",
        "  model.eval()\n",
        "    \n",
        "  pbar = tqdm(test_loader)\n",
        "  for X, y in pbar:\n",
        "    X, y = X.to(device), y.to(device)\n",
        "    X_adv = adversary.perturb(X, y)\n",
        "    y_pred_adv = model(X_adv)\n",
        "    _, pre = torch.max(y_pred_adv.data, 1)\n",
        "    ntested += y.size()[0]\n",
        "    total_correct += torch.sum(pre == y.data)\n",
        "    pbar.set_postfix(adv_acc=\"{0}/{1} {2:-6.2f}%\".format(total_correct, ntested, total_correct*100.0/ntested),refresh = False)\n",
        "        \n",
        "  pbar.close()\n",
        "  acc = total_correct/total_samples\n",
        "  print('Got %d/%d correct (%.2f%%) on the perturbed data'\n",
        "     % (total_correct, total_samples, 100*acc))\n",
        "  return acc"
      ],
      "metadata": {
        "id": "z59-cePuEuS8"
      },
      "execution_count": 50,
      "outputs": []
    },
    {
      "cell_type": "code",
      "source": [
        "adversary = PGDAttack(vgg11, epsilon=0.03, steps=20, step_size=0.01)\n",
        "robust_acc = attack_over_test_data(vgg11, adversary, test_cifar_loader)"
      ],
      "metadata": {
        "colab": {
          "base_uri": "https://localhost:8080/"
        },
        "id": "bvl5y5_BJViO",
        "outputId": "96a12b1a-7489-42f4-a15e-7cba1a48eb95"
      },
      "execution_count": 51,
      "outputs": [
        {
          "output_type": "stream",
          "name": "stderr",
          "text": [
            "100%|██████████| 79/79 [00:56<00:00,  1.41it/s, adv_acc=81/10000   0.81%]"
          ]
        },
        {
          "output_type": "stream",
          "name": "stdout",
          "text": [
            "Got 81/10000 correct (0.81%) on the perturbed data\n"
          ]
        },
        {
          "output_type": "stream",
          "name": "stderr",
          "text": [
            "\n"
          ]
        }
      ]
    },
    {
      "cell_type": "markdown",
      "metadata": {
        "id": "SjuY2BJJR7Rt"
      },
      "source": [
        "Answer: 0.81%"
      ]
    },
    {
      "cell_type": "markdown",
      "metadata": {
        "id": "Ovog_gObbyr2"
      },
      "source": [
        "### (c) (5 points) Plot a batch of adversarial examples (PGD) and the corresponding test samples."
      ]
    },
    {
      "cell_type": "code",
      "source": [
        "images = next(iter(test_cifar_loader))[0]\n",
        "labels = next(iter(test_cifar_loader))[1]\n",
        "images, labels = images.to(device), labels.to(device)\n",
        "adversarial_examples = adversary.perturb(images,labels)"
      ],
      "metadata": {
        "id": "J2OM4r_wVLnI"
      },
      "execution_count": 52,
      "outputs": []
    },
    {
      "cell_type": "code",
      "source": [
        "#plot original images:\n",
        "grid_img = torchvision.utils.make_grid(images.cpu(), nrows=16)\n",
        "plt.imshow(grid_img.permute(1,2,0))"
      ],
      "metadata": {
        "colab": {
          "base_uri": "https://localhost:8080/",
          "height": 287
        },
        "id": "2YzZI8fqaYOT",
        "outputId": "45f2d6af-6424-4d34-ab9f-c06e56589bdf"
      },
      "execution_count": 53,
      "outputs": [
        {
          "output_type": "execute_result",
          "data": {
            "text/plain": [
              "<matplotlib.image.AxesImage at 0x7fd4e653ac10>"
            ]
          },
          "metadata": {},
          "execution_count": 53
        },
        {
          "output_type": "display_data",
          "data": {
            "text/plain": [
              "<Figure size 432x288 with 1 Axes>"
            ],
            "image/png": "[encoded data removed]"
          },
          "metadata": {
            "needs_background": "light"
          }
        }
      ]
    },
    {
      "cell_type": "code",
      "source": [
        "#plot adversarial images:\n",
        "adv_img = torchvision.utils.make_grid(adversarial_examples.cpu(), nrows=16)\n",
        "plt.imshow(grid_img.permute(1,2,0))"
      ],
      "metadata": {
        "colab": {
          "base_uri": "https://localhost:8080/",
          "height": 287
        },
        "id": "2Ie7a-W6avwW",
        "outputId": "f34a1090-13c1-44e2-8522-5b7cd83ab437"
      },
      "execution_count": 54,
      "outputs": [
        {
          "output_type": "execute_result",
          "data": {
            "text/plain": [
              "<matplotlib.image.AxesImage at 0x7fd4e64a48d0>"
            ]
          },
          "metadata": {},
          "execution_count": 54
        },
        {
          "output_type": "display_data",
          "data": {
            "text/plain": [
              "<Figure size 432x288 with 1 Axes>"
            ],
            "image/png": "[encoded data removed]"
          },
          "metadata": {
            "needs_background": "light"
          }
        }
      ]
    },
    {
      "cell_type": "markdown",
      "metadata": {
        "id": "UzbxlFVTcYdO"
      },
      "source": [
        "### (d) (25 points) Implement targeted C&W with L2 norm, lambda=1, confidence=0, max steps=50, using CIFAR10 class 0 test samples. The target class is class 1. Report the testing accuracy on the original class 0 samples, and the proportion of adversarial examples classified as class 1."
      ]
    },
    {
      "cell_type": "code",
      "source": [
        "with torch.no_grad():\n",
        "    net.eval()\n",
        "    # for each batch of images\n",
        "    running_accuracy = 0\n",
        "    running_loss = 0\n",
        "    for images, labels in sub_loader:\n",
        "\n",
        "        # move images and model to device\n",
        "        images, labels = images.to(device), labels.to(device)\n",
        "\n",
        "        # forward\n",
        "        outputs = net(images)\n",
        "\n",
        "        # loss\n",
        "        loss = criterion(outputs, labels)\n",
        "        running_loss += loss.item()\n",
        "\n",
        "        # accuracy\n",
        "        ps = torch.exp(outputs)\n",
        "        top_p, top_class = ps.topk(1, dim=1)\n",
        "        equals = top_class == labels.view(*top_class.shape)\n",
        "        running_accuracy += torch.mean(equals.type(torch.FloatTensor)).item()\n",
        "\n",
        "average_loss = running_loss/len(sub_loader)\n",
        "total_accuracy = running_accuracy/len(sub_loader)\n",
        "print(\"Test Loss: {:.3f}\".format(average_loss))\n",
        "print(\"Test Accuracy: {:.3f}\".format(total_accuracy*100)) "
      ],
      "metadata": {
        "colab": {
          "base_uri": "https://localhost:8080/"
        },
        "id": "RlIqaBXbckNU",
        "outputId": "6aa52a90-5904-4cc5-cb63-04dd9de9e6b4"
      },
      "execution_count": 55,
      "outputs": [
        {
          "output_type": "stream",
          "name": "stdout",
          "text": [
            "Test Loss: 0.184\n",
            "Test Accuracy: 94.516\n"
          ]
        }
      ]
    },
    {
      "cell_type": "code",
      "source": [
        "import math\n",
        "def clean_accuracy(model: nn.Module,\n",
        "                   x: torch.Tensor,\n",
        "                   y: torch.Tensor,\n",
        "                   batch_size: int = 100,\n",
        "                   device: torch.device = None):\n",
        "    if device is None:\n",
        "        device = x.device\n",
        "    acc = 0.\n",
        "    n_batches = math.ceil(x.shape[0] / batch_size)\n",
        "    with torch.no_grad():\n",
        "        for counter in range(n_batches):\n",
        "            x_curr = x[counter * batch_size:(counter + 1) *\n",
        "                       batch_size].to(device)\n",
        "            y_curr = y[counter * batch_size:(counter + 1) *\n",
        "                       batch_size].to(device)\n",
        "\n",
        "            output = model(x_curr)\n",
        "            acc += (output.max(1)[1] == y_curr).float().sum()\n",
        "\n",
        "    return acc.item() / x.shape[0]"
      ],
      "metadata": {
        "id": "PwVuU0YTVzqo"
      },
      "execution_count": 56,
      "outputs": []
    },
    {
      "cell_type": "code",
      "source": [
        "!pip install torchattacks\n",
        "import torchattacks"
      ],
      "metadata": {
        "colab": {
          "base_uri": "https://localhost:8080/"
        },
        "id": "WoYe9g-154oT",
        "outputId": "3b712a90-2351-4b32-c809-244493141471"
      },
      "execution_count": 57,
      "outputs": [
        {
          "output_type": "stream",
          "name": "stdout",
          "text": [
            "Looking in indexes: https://pypi.org/simple, https://us-python.pkg.dev/colab-wheels/public/simple/\n",
            "Requirement already satisfied: torchattacks in /usr/local/lib/python3.7/dist-packages (3.3.0)\n"
          ]
        }
      ]
    },
    {
      "cell_type": "code",
      "execution_count": 59,
      "metadata": {
        "id": "n4bV5_3dcpmC",
        "colab": {
          "base_uri": "https://localhost:8080/"
        },
        "outputId": "31b6fc72-7461-46b7-e40b-ff42daa61cbf"
      },
      "outputs": [
        {
          "output_type": "stream",
          "name": "stdout",
          "text": [
            "Attack mode is changed to 'targeted(custom)'.\n",
            "The proportion of class 0 images classified as class 1 is 0.296\n"
          ]
        }
      ],
      "source": [
        "def cw_test_target(model, test_loader):\n",
        "    model.eval()\n",
        "    cw = torchattacks.CW(net, c=1, kappa=0, steps=50, lr=0.01)\n",
        "    cw.set_mode_targeted_by_function(target_map_function=lambda images, labels:1)\n",
        "    correct_cnt = 0\n",
        "    total_cnt = 0\n",
        "    for _, (x, labels) in enumerate(test_loader):\n",
        "        x, labels = x.to(device), labels.to(device)\n",
        "        target_labels = torch.ones(len(x))\n",
        "        #print(target_labels)\n",
        "        adv = cw(x, labels)\n",
        "        out = model(adv)\n",
        "        _, pred_label = torch.max(out.data, 1)\n",
        "        #print(pred_label)\n",
        "        total_cnt += x.data.size()[0]\n",
        "        correct_cnt += (pred_label.cpu() == target_labels).float().sum()\n",
        "    acr = float(correct_cnt.double()/total_cnt)\n",
        "    print(\"The proportion of class 0 images classified as class 1 is {}\".format(acr))\n",
        "    return acr\n",
        "\n",
        "cw_acr = cw_test_target(vgg11, sub_loader)"
      ]
    },
    {
      "cell_type": "markdown",
      "metadata": {
        "id": "nxKnEmEhXPLk"
      },
      "source": [
        "## Problem 2 (50 points)\n",
        "\n",
        "In this problem you will practice implementing **adversarial training** on CIFAR10\n",
        "\n",
        "**Data.** You will use CIFAR10 classification dataset (10 classes). Pytorch/torchvision has provide a useful dataloader to automatically download and load the data into batches. Code of the data loader has been provided in the template. Please don't modify the data loading part."
      ]
    },
    {
      "cell_type": "markdown",
      "metadata": {
        "id": "JQn6Mk2egIk1"
      },
      "source": [
        "### **Problem Description.** Implement **adversarial training** to train VGG11 on CIFAR10.\n",
        "\n",
        "### (a) (25 points) Implement adversarial training (generate PGD adversarial examples every iteration and train the model with adversarial examples) with PGD (L-infinity norm, epsilon=0.03, step size=0.01, max steps=7). You can initial the model with pre-trained VGG11. Do adversarial training for at least 10 epochs."
      ]
    },
    {
      "cell_type": "code",
      "source": [
        "def advtrain(model, train_loader):\n",
        "    model.train()\n",
        "    adversary = torchattacks.PGD(model = model, eps=0.03, steps=7, alpha=0.01)\n",
        "    \n",
        "    optimizer = torch.optim.SGD(model.parameters(), lr=0.01, momentum=0.9, weight_decay=0.002)\n",
        "    criterion = nn.CrossEntropyLoss()\n",
        "    \n",
        "    total_loss = 0\n",
        "    batch_count = 0\n",
        "    correct = 0\n",
        "    correct_ori = 0\n",
        "    total = 0\n",
        "    for epoch in range(10):\n",
        "        for x, y in tqdm(train_loader):\n",
        "            x,y = x.to(device), y.to(device)\n",
        "            outputs = model(x)\n",
        "            optimizer.zero_grad()\n",
        "            adv = adversary(x, y)\n",
        "            adv_outputs = model(adv)\n",
        "            loss = criterion(adv_outputs, y)\n",
        "            loss.backward()\n",
        "            optimizer.step()\n",
        "            total_loss += loss.item()\n",
        "            _, predicted = adv_outputs.max(1)\n",
        "            _, pred_ori = outputs.max(1)\n",
        "            \n",
        "            total += y.shape[0]\n",
        "            correct += torch.sum(predicted == y)\n",
        "            correct_ori += torch.sum(pred_ori == y)\n",
        "            batch_count += 1\n",
        "        epoch_avg_loss = total_loss / batch_count\n",
        "        acc = correct / total\n",
        "        acc_ori = correct_ori / total\n",
        "        print ('Epoch [{}/{}], robust accuracy {:.4f}, accuracy {:.4f}'.format(epoch+1, 10, acc, acc_ori))\n",
        "        #print(acc)\n",
        "        #print(acc_ori)\n",
        "    \n",
        "    return model"
      ],
      "metadata": {
        "id": "8_hLnTnSfNUR"
      },
      "execution_count": 60,
      "outputs": []
    },
    {
      "cell_type": "code",
      "source": [
        "vgg11_adv = advtrain(vgg11, train_cifar_loader)"
      ],
      "metadata": {
        "colab": {
          "base_uri": "https://localhost:8080/"
        },
        "id": "IeKg8hTHr3Ib",
        "outputId": "35fc4494-9794-45c0-c621-eaa96d878f83"
      },
      "execution_count": 23,
      "outputs": [
        {
          "output_type": "stream",
          "name": "stderr",
          "text": [
            "100%|██████████| 391/391 [02:02<00:00,  3.19it/s]\n"
          ]
        },
        {
          "output_type": "stream",
          "name": "stdout",
          "text": [
            "Epoch [1/10], robust accuracy 0.4521, accuracy 0.7040\n"
          ]
        },
        {
          "output_type": "stream",
          "name": "stderr",
          "text": [
            "100%|██████████| 391/391 [02:02<00:00,  3.20it/s]\n"
          ]
        },
        {
          "output_type": "stream",
          "name": "stdout",
          "text": [
            "Epoch [2/10], robust accuracy 0.4612, accuracy 0.7163\n"
          ]
        },
        {
          "output_type": "stream",
          "name": "stderr",
          "text": [
            "100%|██████████| 391/391 [02:02<00:00,  3.20it/s]\n"
          ]
        },
        {
          "output_type": "stream",
          "name": "stdout",
          "text": [
            "Epoch [3/10], robust accuracy 0.4696, accuracy 0.7272\n"
          ]
        },
        {
          "output_type": "stream",
          "name": "stderr",
          "text": [
            "100%|██████████| 391/391 [02:02<00:00,  3.20it/s]\n"
          ]
        },
        {
          "output_type": "stream",
          "name": "stdout",
          "text": [
            "Epoch [4/10], robust accuracy 0.4772, accuracy 0.7376\n"
          ]
        },
        {
          "output_type": "stream",
          "name": "stderr",
          "text": [
            "100%|██████████| 391/391 [02:02<00:00,  3.20it/s]\n"
          ]
        },
        {
          "output_type": "stream",
          "name": "stdout",
          "text": [
            "Epoch [5/10], robust accuracy 0.4851, accuracy 0.7469\n"
          ]
        },
        {
          "output_type": "stream",
          "name": "stderr",
          "text": [
            "100%|██████████| 391/391 [02:01<00:00,  3.21it/s]\n"
          ]
        },
        {
          "output_type": "stream",
          "name": "stdout",
          "text": [
            "Epoch [6/10], robust accuracy 0.4927, accuracy 0.7557\n"
          ]
        },
        {
          "output_type": "stream",
          "name": "stderr",
          "text": [
            "100%|██████████| 391/391 [02:02<00:00,  3.20it/s]\n"
          ]
        },
        {
          "output_type": "stream",
          "name": "stdout",
          "text": [
            "Epoch [7/10], robust accuracy 0.5002, accuracy 0.7647\n"
          ]
        },
        {
          "output_type": "stream",
          "name": "stderr",
          "text": [
            "100%|██████████| 391/391 [02:01<00:00,  3.21it/s]\n"
          ]
        },
        {
          "output_type": "stream",
          "name": "stdout",
          "text": [
            "Epoch [8/10], robust accuracy 0.5078, accuracy 0.7729\n"
          ]
        },
        {
          "output_type": "stream",
          "name": "stderr",
          "text": [
            "100%|██████████| 391/391 [02:01<00:00,  3.21it/s]\n"
          ]
        },
        {
          "output_type": "stream",
          "name": "stdout",
          "text": [
            "Epoch [9/10], robust accuracy 0.5151, accuracy 0.7809\n"
          ]
        },
        {
          "output_type": "stream",
          "name": "stderr",
          "text": [
            "100%|██████████| 391/391 [02:02<00:00,  3.20it/s]"
          ]
        },
        {
          "output_type": "stream",
          "name": "stdout",
          "text": [
            "Epoch [10/10], robust accuracy 0.5223, accuracy 0.7881\n"
          ]
        },
        {
          "output_type": "stream",
          "name": "stderr",
          "text": [
            "\n"
          ]
        }
      ]
    },
    {
      "cell_type": "markdown",
      "metadata": {
        "id": "MrTHFp-JgRhT"
      },
      "source": [
        "### (b) (20 points) Implement PGD with L-infinity norm, epsilon=0.03, step size=0.01, max steps=20, to attack the **adversarially trained** VGG11 and generate adversarial examples with the CIFAR10 test set. Report the testing accuracy and robust testing accuracy of the **adversarially trained** VGG11 on CIFAR10 test set."
      ]
    },
    {
      "cell_type": "code",
      "execution_count": 61,
      "metadata": {
        "id": "vhTNbwBchOw_",
        "colab": {
          "base_uri": "https://localhost:8080/"
        },
        "outputId": "3680b857-6590-4580-e3e6-8f040f767f05"
      },
      "outputs": [
        {
          "output_type": "stream",
          "name": "stdout",
          "text": [
            "Test Loss: 0.890\n",
            "Test Accuracy: 69.689\n"
          ]
        }
      ],
      "source": [
        "net1 = vgg11_adv.to(device)\n",
        "criterion = nn.CrossEntropyLoss()\n",
        "\n",
        "with torch.no_grad():\n",
        "    net1.eval()\n",
        "    # for each batch of images\n",
        "    running_accuracy = 0\n",
        "    running_loss = 0\n",
        "    for images, labels in test_cifar_loader:\n",
        "\n",
        "        # move images and model to device\n",
        "        images, labels = images.to(device), labels.to(device)\n",
        "\n",
        "        # forward\n",
        "        outputs = net1(images)\n",
        "\n",
        "        # loss\n",
        "        loss = criterion(outputs, labels)\n",
        "        running_loss += loss.item()\n",
        "\n",
        "        # accuracy\n",
        "        ps = torch.exp(outputs)\n",
        "        top_p, top_class = ps.topk(1, dim=1)\n",
        "        equals = top_class == labels.view(*top_class.shape)\n",
        "        running_accuracy += torch.mean(equals.type(torch.FloatTensor)).item()\n",
        "\n",
        "average_loss = running_loss/len(test_cifar_loader)\n",
        "total_accuracy = running_accuracy/len(test_cifar_loader)\n",
        "print(\"Test Loss: {:.3f}\".format(average_loss))\n",
        "print(\"Test Accuracy: {:.3f}\".format(total_accuracy*100))      \n"
      ]
    },
    {
      "cell_type": "code",
      "source": [
        "adversary = PGDAttack(net1, epsilon=0.03, steps=20, step_size=0.01)\n",
        "robust_acc = attack_over_test_data(net1, adversary, test_cifar_loader)"
      ],
      "metadata": {
        "colab": {
          "base_uri": "https://localhost:8080/"
        },
        "id": "sj0K7qEg3kEY",
        "outputId": "b60e5764-ae4c-4f43-80db-d821288eecc1"
      },
      "execution_count": 62,
      "outputs": [
        {
          "output_type": "stream",
          "name": "stderr",
          "text": [
            "100%|██████████| 79/79 [00:56<00:00,  1.39it/s, adv_acc=3665/10000  36.65%]"
          ]
        },
        {
          "output_type": "stream",
          "name": "stdout",
          "text": [
            "Got 3665/10000 correct (36.65%) on the perturbed data\n"
          ]
        },
        {
          "output_type": "stream",
          "name": "stderr",
          "text": [
            "\n"
          ]
        }
      ]
    },
    {
      "cell_type": "markdown",
      "metadata": {
        "id": "KWxLxe28hWBN"
      },
      "source": [
        "### (c) (5 points) Please compare the performance of the pre-trained VGG11 and the adversarially trained VGG11 against PGD attack."
      ]
    },
    {
      "cell_type": "markdown",
      "metadata": {
        "id": "_zfrak2QSZqU"
      },
      "source": [
        "Answer: Compared with pre-trained VGG11, the adversarially trained VGG11 has a better robust accuracy but sacrifies performance on clean images (testing accuracy)."
      ]
    }
  ],
  "metadata": {
    "accelerator": "GPU",
    "colab": {
      "collapsed_sections": [],
      "provenance": []
    },
    "gpuClass": "standard",
    "kernelspec": {
      "display_name": "Python 3",
      "name": "python3"
    },
    "language_info": {
      "name": "python"
    }
  },
  "nbformat": 4,
  "nbformat_minor": 0
}