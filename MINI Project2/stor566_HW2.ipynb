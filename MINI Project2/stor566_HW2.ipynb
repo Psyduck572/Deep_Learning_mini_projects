{
 "cells": [
  {
   "cell_type": "markdown",
   "metadata": {
    "id": "0D6giqCEScfp"
   },
   "source": [
    "# STOR 566, Homework 2\n",
    "### Instructor: Yao Li\n",
    "### Keywords: SVM, MLP, CNN\n",
    "### Due date: Sep 18, 11:55pm\n",
    "### **Submission Instruction**\n",
    "\n",
    "- Please download this script and use it to answer the questions in the homework. \n",
    "- For submission, please include your code, code output and answers in the script and submit the ipynb file on sakai.\n",
    "- Please don't modify existing cells. But you can add cells between the exercise statements.\n",
    "- To make markdown, please switch the cell type to markdown (from code) - you can hit 'm' when you are in command mode - and use the markdown language. For a brief tutorial see: https://daringfireball.net/projects/markdown/syntax\n",
    "\n",
    "### **References:**\n",
    "\n",
    "- You can follow the setup instructions at [here](https://pytorch.org/get-started/locally/).\n",
    "- A useful tutorial on learning pytorch by examples at [here](https://pytorch.org/tutorials/beginner/pytorch_with_examples.html).\n",
    "- More illustrations of different optimizers could be found [here](https://ruder.io/optimizing-gradient-descent/).\n",
    "- Check Pytorch optimization methods at [here](https://pytorch.org/docs/stable/optim.html)\n",
    "- Check Pytorch data augmentation options at [here](https://pytorch.org/vision/main/transforms.html).\n",
    "\n",
    "\n",
    "### **Evaluation Metrics of Classifiers:**\n",
    "\n",
    "- Average loss of an epoch: \n",
    "    \\begin{align}\n",
    "\t  \\frac{1}{B}\\sum_{b=1}^B\\sum_{d=1}^{D_b}\\frac{loss(y_{bd}, f(x_{bd}))}{D_b}\n",
    "\t  \\end{align}\n",
    "    for each training epoch\n",
    "    \n",
    "    - $B$: the total number of batches\n",
    "    - $D_b$: the number of observations in $b$-th batch\n",
    "    - $f$: the model (Logistic regression or Linear SVM or MLP or CNN)\n",
    "    - loss: logistic loss or the loss of linear SVM or cross-entropy\n",
    "    - $(x_{bd}, y_{bd})$: the $d$-th pair of input data and label in $b$-th batch\n",
    "    - An epoch is defined as one iteration over all observations in the training dataset\n",
    "\n",
    "- Testing accuracy: \n",
    "\t\\begin{align}\n",
    "\t\\frac{1}{N}\\sum_{i=1}^N {\\bf 1}(\\hat{y}_i=y_i)\n",
    "\t\\end{align}\t\n",
    "    - $N$: the total number of samples in the testing set\n",
    "    - $y_i$: true label of sample $i$\n",
    "    - $\\hat{y}_i$: predicted label by the model"
   ]
  },
  {
   "cell_type": "markdown",
   "metadata": {
    "id": "rB6khqRukUzQ"
   },
   "source": [
    "## Problem 1 (40 points)\n",
    "\n",
    "In this problem you will practice implementing Linear SVM and Logistic Regression to classify **handwritten digit 0 and 1**.\n",
    "\n",
    "**Data.** You will use MNIST digit classification dataset. Pytorch/torchvision has provide a useful dataloader to automatically download and load the data into batches. In this homework, you need two class, digit 0 and digit 1, for binary classification. Code of the data loader has been provided in the template. Please don't modify the data loading part."
   ]
  },
  {
   "cell_type": "code",
   "execution_count": 1,
   "metadata": {
    "colab": {
     "base_uri": "https://localhost:8080/",
     "height": 35
    },
    "id": "sKxBocWvdBtA",
    "outputId": "356a41b3-2fc6-4d17-f1e7-3307b7ad377c"
   },
   "outputs": [
    {
     "data": {
      "text/plain": [
       "\"\\nimport os\\nfrom google.colab import drive \\ndrive.mount('/content/drive')\\nos.chdir('/content/drive/MyDrive/YOUR_NEW_WD')\\n\""
      ]
     },
     "execution_count": 1,
     "metadata": {},
     "output_type": "execute_result"
    }
   ],
   "source": [
    "## The following code can change the working directory to your google drive\n",
    "## So you don't need to download the data every time\n",
    "\"\"\"\n",
    "import os\n",
    "from google.colab import drive \n",
    "drive.mount('/content/drive')\n",
    "os.chdir('/content/drive/MyDrive/YOUR_NEW_WD')\n",
    "\"\"\""
   ]
  },
  {
   "cell_type": "code",
   "execution_count": 2,
   "metadata": {},
   "outputs": [],
   "source": [
    "batch_size = 64\n",
    "data_dir = './data'\n",
    "\n",
    "import torch\n",
    "from torchvision import models\n",
    "from torchsummary import summary\n",
    "import torch.nn as nn\n",
    "import torch.optim as optim\n",
    "import torch.nn.functional as F\n",
    "import numpy as np\n",
    "import torch.utils.data as td\n",
    "import random, time\n",
    "import matplotlib.pyplot as plt\n",
    "from torchvision import datasets, transforms\n",
    "from torch.utils.data.sampler import SubsetRandomSampler\n",
    "from torch.autograd import Variable"
   ]
  },
  {
   "cell_type": "code",
   "execution_count": 3,
   "metadata": {
    "colab": {
     "base_uri": "https://localhost:8080/",
     "height": 431,
     "referenced_widgets": [
      "b0133c23313d49ee8889525628e1b257",
      "ffa1cc6610004dd3bf39f7de38d32b96",
      "2af0135ce3434a9fab62bf6c6e1af9f7",
      "eb51490b61c04a4db144b0dd38098f4e",
      "8c1c35e13a8d4aea96ad8e845ce5e1e4",
      "c5e32667641b4781b4a7d6dc073d46a9",
      "0eec3287dc814f5ab3b9a91edf835540",
      "c2f91ed1e5d048c6b62f5ee523e7de38",
      "770c76103bad4b779a3b67f98ed91233",
      "ac7af2250c1d417095b485c303a7c2fc",
      "f5c51834597f48baad3a11221de53891",
      "2c45d830374b4e83935214c0247fcf89",
      "0e0efbf7811a42c99c09691d2f5de07b",
      "5d74ec8bf85e4662bdcf1465fc881573",
      "7d594ce39a5f4ed9adbec3eb8cc907a3",
      "79d5501984c746a0ba0f0ba5d9a1a6d2",
      "49e81101296c4bafb0917cd0bbd62a86",
      "efd9d8ea65114fb1869c243944a8c7a0",
      "db701d8dc7f94e3186300cb41254e826",
      "d64b96a0c3174c64bfdedc7e757d12f1",
      "e9367ed3012341529beb8170b00c1a0a",
      "65cb6310831e487aa71da3e7cfa8c7af",
      "da543b254b4a4a96ac92be4a410cdb3a",
      "90d4e152390344cab6fdeec12e198b5a",
      "1476c80846f045c39e745f1d0a153a17",
      "4c5ceb0b8c964968bdb91a6ee705726f",
      "fb726fe658964244863a9f7b33de6d04",
      "5dc26107f5064b5fbf4004872b111cdc",
      "c0b386ce2ea54a0b9fe2f6288052daf0",
      "f7c3e17f9dae453596ace5ef18cf41aa",
      "d38917a039e04073a8fe0f7dae068ddc",
      "07ffae740d404ee78889a0142fdf053e",
      "5b40f747509c4ff080eb5ade8da87038",
      "1c3c5a6e87634fde9ba3588de1c3ea05",
      "3af15d2a8d30471dbf5bec130565abe2",
      "cd44a3d15d514fa0932e160cc475a9c7",
      "065b5693d35049e6a3d05f43b850e840",
      "1f9f8b431a8a47ee9d41706bf6929f76",
      "83fc87171efd4f37bc2543cffa8616f8",
      "31f60ef1a92a4dcb80a2db9ca62e7554",
      "df055d85c60744f6871b9643c34b16a5",
      "969ca0d7077641d5ac0dc75593d2f3cd",
      "a1b2b2c5f0cd456fb3dafa2eef6d8b85",
      "ae31c4e15aba4a36996316eb6189a846"
     ]
    },
    "id": "UFlhPdZWXDSs",
    "outputId": "e9d19f95-9e65-49b9-ca94-5967c552e48f"
   },
   "outputs": [],
   "source": [
    "## Data loading code chunk, please don't modify it. \n",
    "## However, you can adjust the batch size if you want to.\n",
    "\n",
    "## USE THIS SNIPPET TO GET BINARY TRAIN/TEST DATA\n",
    "\n",
    "train_data = datasets.MNIST(data_dir, train=True, download=True,\n",
    "                   transform=transforms.Compose([\n",
    "                       transforms.ToTensor(),\n",
    "                       transforms.Normalize((0.1307,), (0.3081,))\n",
    "                   ]))\n",
    "# Once you have downloaded the data by setting download=True, you can\n",
    "# change download=True to download=False\n",
    "test_data = datasets.MNIST(data_dir, train=False, download=False,\n",
    "                   transform=transforms.Compose([\n",
    "                       transforms.ToTensor(),\n",
    "                       transforms.Normalize((0.1307,), (0.3081,))\n",
    "                   ]))\n",
    "\n",
    "subset_indices = ((train_data.targets == 0) + (train_data.targets == 1)).nonzero()\n",
    "train_loader = torch.utils.data.DataLoader(train_data,batch_size=batch_size, \n",
    "  shuffle=False,sampler=SubsetRandomSampler(subset_indices.view(-1)))\n",
    "\n",
    "\n",
    "subset_indices = ((test_data.targets == 0) + (test_data.targets == 1)).nonzero()\n",
    "test_loader = torch.utils.data.DataLoader(test_data,batch_size=batch_size, \n",
    "  shuffle=False,sampler=SubsetRandomSampler(subset_indices.view(-1)))"
   ]
  },
  {
   "cell_type": "markdown",
   "metadata": {
    "id": "L_VY0XmUkteW"
   },
   "source": [
    "### **Problem Description.**\n",
    "### 1. (20 points) Implement **Logistic Regression** with Pytorch to do handwritten digit 0 vs. 1 classification. Pick an optimizer yourself. "
   ]
  },
  {
   "cell_type": "code",
   "execution_count": 4,
   "metadata": {
    "id": "jsD4haidWeDq"
   },
   "outputs": [],
   "source": [
    "## Implementation of Logistic Regression\n",
    "## You can insert more code chunks and text cells if you want to.\n",
    "## Your code:\n",
    "\n",
    "## A template is provided but you don't have to follow it:\n",
    "\"\"\"\n",
    "# The number of epochs is at least 10, you can increase it to achieve better performance\n",
    "num_epochs = 10\n",
    "\n",
    "# Training the Model\n",
    "for epoch in range(num_epochs):\n",
    "    total_loss = 0\n",
    "    for i, (images, labels) in enumerate(train_loader):\n",
    "        # Convert the 28*28 image matrix into a 784-dim vector\n",
    "        images = images.view(-1, 28*28) \n",
    "        # Convert labels from 0,1 to -1,1\n",
    "        labels = 2*(labels.float()-0.5)\n",
    "        \n",
    "        ## TODO \n",
    "        # 1. Compute Loss. Check torch functions for the corresponding loss for Logistic and SVM\n",
    "        # 2. Do optimization. Chec torch.optim to see how to do optimization with pytorch\n",
    "        # 3. Save batch loss\n",
    "\n",
    "    ## Save average epoch loss\n",
    "\"\"\"\n",
    "input_size = 784  #(dimension of image 28 * 28)\n",
    "num_classes = 1   \n",
    "num_epochs = 10\n",
    "\n",
    "class LogisticRegression(nn.modules.Module):    \n",
    "    def __init__(self):\n",
    "        super(LogisticRegression,self).__init__()\n",
    "    def forward(self, outputs, labels):\n",
    "        batch_size = outputs.size()[0]\n",
    "        return torch.sum(torch.log(1 + torch.exp(-(outputs.t()*labels))))/batch_size\n",
    "\n",
    "\n",
    "#Logistic regression model and Loss\n",
    "logistics_model = 0\n",
    "logistics_model = nn.Linear(input_size,num_classes)\n",
    "\n",
    "## Custom Loss criteria and SGD optimizer\n",
    "loss_criteria = LogisticRegression()\n",
    "\n",
    "optimizer = torch.optim.SGD(logistics_model.parameters(), lr=0.01, momentum= 0.9)\n",
    "total_step = len(train_loader)"
   ]
  },
  {
   "cell_type": "code",
   "execution_count": 5,
   "metadata": {},
   "outputs": [
    {
     "name": "stdout",
     "output_type": "stream",
     "text": [
      "Epoch [1/10], Averge Loss:for epoch[1, 0.0128]\n",
      "Epoch [2/10], Averge Loss:for epoch[2, 0.0039]\n",
      "Epoch [3/10], Averge Loss:for epoch[3, 0.0030]\n",
      "Epoch [4/10], Averge Loss:for epoch[4, 0.0025]\n",
      "Epoch [5/10], Averge Loss:for epoch[5, 0.0022]\n",
      "Epoch [6/10], Averge Loss:for epoch[6, 0.0020]\n",
      "Epoch [7/10], Averge Loss:for epoch[7, 0.0018]\n",
      "Epoch [8/10], Averge Loss:for epoch[8, 0.0017]\n",
      "Epoch [9/10], Averge Loss:for epoch[9, 0.0015]\n",
      "Epoch [10/10], Averge Loss:for epoch[10, 0.0015]\n"
     ]
    }
   ],
   "source": [
    "templ = []\n",
    "for epoch in range(num_epochs):\n",
    "    avg_loss_epoch = 0\n",
    "    batch_loss = 0\n",
    "    total_batches = 0\n",
    "\n",
    "    for i, (images, labels) in enumerate(train_loader):\n",
    "        # Reshape images to (batch_size, input_size)\n",
    "        images = images.reshape(-1, 28*28)            \n",
    "        labels = Variable(2*(labels.float()-0.5))\n",
    "        \n",
    "        outputs = logistics_model(images)               \n",
    "        loss = loss_criteria(outputs, labels)    \n",
    "        \n",
    "        # Backward and optimize\n",
    "        optimizer.zero_grad()\n",
    "        loss.backward()\n",
    "        optimizer.step()   \n",
    "\n",
    "        total_batches += 1     \n",
    "        batch_loss += loss.item()\n",
    "\n",
    "    avg_loss_epoch = batch_loss/total_batches\n",
    "    templ.append(avg_loss_epoch)\n",
    "    print ('Epoch [{}/{}], Averge Loss:for epoch[{}, {:.4f}]' \n",
    "                   .format(epoch+1, num_epochs, epoch+1, avg_loss_epoch ))"
   ]
  },
  {
   "cell_type": "markdown",
   "metadata": {
    "id": "4UZxum1LZSD8"
   },
   "source": [
    "### (a) (5 points) Report the hyper-parameters (number of epochs, learning rate, momentum etc)."
   ]
  },
  {
   "cell_type": "markdown",
   "metadata": {
    "id": "-kEgec89ZT5W"
   },
   "source": [
    "Answer: \\\n",
    "input_size = 784\\\n",
    "num_classes = 1\\\n",
    "num_epochs = 10\\\n",
    "batch_size = 64\\\n",
    "learning_rate = 0.01\\\n",
    "momentum = 0.9"
   ]
  },
  {
   "cell_type": "markdown",
   "metadata": {
    "id": "6Tigk4RBkyFb"
   },
   "source": [
    "### (b) (10 points) Report the **Average loss of an epoch** for every epoch by generating Average Loss vs. Epoch plot. Please report at least **10** epochs."
   ]
  },
  {
   "cell_type": "code",
   "execution_count": 6,
   "metadata": {
    "colab": {
     "base_uri": "https://localhost:8080/",
     "height": 279
    },
    "id": "S-IUsPlvYEGJ",
    "outputId": "b32ebbf6-2309-43a2-b07e-5a2a6fab9a29"
   },
   "outputs": [
    {
     "data": {
      "image/png": "[encoded data removed]",
      "text/plain": [
       "<Figure size 432x288 with 1 Axes>"
      ]
     },
     "metadata": {
      "needs_background": "light"
     },
     "output_type": "display_data"
    }
   ],
   "source": [
    "epoch_count = range(1, len(templ) + 1)\n",
    "plt.plot(epoch_count, templ)\n",
    "plt.xlabel('Epoch')\n",
    "plt.ylabel('Average Loss')\n",
    "plt.show()"
   ]
  },
  {
   "cell_type": "markdown",
   "metadata": {
    "id": "I0rrCHF0k32r"
   },
   "source": [
    "### (c) (5 points) Report the final testing accuracy of trained model."
   ]
  },
  {
   "cell_type": "code",
   "execution_count": 7,
   "metadata": {
    "colab": {
     "base_uri": "https://localhost:8080/"
    },
    "id": "OQpqDtOHWxpp",
    "outputId": "37886bb7-577d-4649-81e4-264caaddcbb6"
   },
   "outputs": [
    {
     "name": "stdout",
     "output_type": "stream",
     "text": [
      "Accuracy of the model on the test images: 99.905434 %\n"
     ]
    }
   ],
   "source": [
    "correct = 0.\n",
    "total = 0.\n",
    "for images, labels in test_loader:\n",
    "    images = images.reshape(-1, 28*28)\n",
    "\n",
    "    outputs_test = torch.sigmoid(logistics_model(images))\n",
    "    predicted = outputs_test.data >= 0.5 \n",
    " \n",
    "    total += labels.size(0) \n",
    "    \n",
    "    correct += (predicted.view(-1).long() == labels).sum()\n",
    "    \n",
    "   \n",
    "print('Accuracy of the model on the test images: %f %%' % (100 * (correct.float() / total)))"
   ]
  },
  {
   "cell_type": "markdown",
   "metadata": {
    "id": "Yzs9iWPxXTRJ"
   },
   "source": [
    "### 2. (20 points) Implement **Linear SVM** with Pytorch to do handwritten digit 0 vs. 1 classification. Pick an optimizer yourself. "
   ]
  },
  {
   "cell_type": "code",
   "execution_count": 8,
   "metadata": {
    "id": "L1J06Z-dXiEy"
   },
   "outputs": [
    {
     "name": "stdout",
     "output_type": "stream",
     "text": [
      "Epoch [1/10], Averge Loss:for epoch[1, 0.2164]\n",
      "Epoch [2/10], Averge Loss:for epoch[2, 0.0428]\n",
      "Epoch [3/10], Averge Loss:for epoch[3, 0.0299]\n",
      "Epoch [4/10], Averge Loss:for epoch[4, 0.0240]\n",
      "Epoch [5/10], Averge Loss:for epoch[5, 0.0205]\n",
      "Epoch [6/10], Averge Loss:for epoch[6, 0.0184]\n",
      "Epoch [7/10], Averge Loss:for epoch[7, 0.0169]\n",
      "Epoch [8/10], Averge Loss:for epoch[8, 0.0157]\n",
      "Epoch [9/10], Averge Loss:for epoch[9, 0.0149]\n",
      "Epoch [10/10], Averge Loss:for epoch[10, 0.0141]\n"
     ]
    }
   ],
   "source": [
    "input_size = 784\n",
    "num_classes = 1\n",
    "num_epochs = 10\n",
    "batch_size = 64\n",
    "learning_rate = 0.0001\n",
    "momentum = 0.01\n",
    "\n",
    "class SVM_Loss(nn.modules.Module):    \n",
    "    def __init__(self):\n",
    "        super(SVM_Loss,self).__init__()\n",
    "    def forward(self, outputs, labels):\n",
    "         return torch.sum(torch.clamp(1 - outputs.t()*labels, min=0))/batch_size\n",
    "\n",
    "#SVM regression model and Loss\n",
    "svm_model = nn.Linear(input_size,num_classes)\n",
    "#model = LogisticRegression(input_size,num_classes)\n",
    "\n",
    "## Loss criteria and SGD optimizer\n",
    "svm_loss_criteria = SVM_Loss()\n",
    "\n",
    "#loss_criteria = nn.CrossEntropyLoss()  \n",
    "\n",
    "svm_optimizer = torch.optim.SGD(svm_model.parameters(), lr=learning_rate, momentum=momentum)\n",
    "\n",
    "\n",
    "#training\n",
    "total_step = len(train_loader)\n",
    "temp = []\n",
    "for epoch in range(num_epochs):\n",
    "    avg_loss_epoch = 0\n",
    "    batch_loss = 0\n",
    "    total_batches = 0\n",
    "    for i, (images, labels) in enumerate(train_loader):\n",
    "        # Reshape images to (batch_size, input_size)\n",
    "        images = images.reshape(-1, 28*28)                      \n",
    "        labels = Variable(2*(labels.float()-0.5))\n",
    "                \n",
    "        # Forward pass        \n",
    "        outputs = svm_model(images)           \n",
    "        loss_svm = svm_loss_criteria(outputs, labels)    \n",
    "        \n",
    "       \n",
    "        # Backward and optimize\n",
    "        svm_optimizer.zero_grad()\n",
    "        loss_svm.backward()\n",
    "        svm_optimizer.step()    \n",
    "        \n",
    "        #print(\"Model's parameter after the update:\")\n",
    "        #for param2 in svm_model.parameters():\n",
    "         #   print(param2)\n",
    "        total_batches += 1     \n",
    "        batch_loss += loss_svm.item()\n",
    "    temp.append(batch_loss/total_batches) \n",
    "\n",
    "    avg_loss_epoch = batch_loss/total_batches\n",
    "    print ('Epoch [{}/{}], Averge Loss:for epoch[{}, {:.4f}]' \n",
    "                   .format(epoch+1, num_epochs, epoch+1, avg_loss_epoch ))\n",
    "        "
   ]
  },
  {
   "cell_type": "markdown",
   "metadata": {
    "id": "tWwSIMRRZtMX"
   },
   "source": [
    "### (a) (5 points) Report the hyper-parameters (number of epochs, learning rate, momentum etc)."
   ]
  },
  {
   "cell_type": "markdown",
   "metadata": {
    "id": "Y-6Cx2r9Ztnj"
   },
   "source": [
    "Answer: \\\n",
    "input_size = 784\\\n",
    "num_classes = 1\\\n",
    "num_epochs = 10\\\n",
    "batch_size = 64\\\n",
    "learning_rate = 0.0001\\\n",
    "momentum = 0.01\n"
   ]
  },
  {
   "cell_type": "markdown",
   "metadata": {
    "id": "MBBIhPzMXctJ"
   },
   "source": [
    "### (b) (10 points) Report the **Average loss of an epoch** for every epoch by generating Average Loss vs. Epoch plot. Please report at least **10** epochs."
   ]
  },
  {
   "cell_type": "code",
   "execution_count": 9,
   "metadata": {
    "colab": {
     "base_uri": "https://localhost:8080/",
     "height": 279
    },
    "id": "JH6w-fvXXkLe",
    "outputId": "66d299fa-d681-45bc-d1df-93afef561690"
   },
   "outputs": [
    {
     "data": {
      "image/png": "[encoded data removed]",
      "text/plain": [
       "<Figure size 432x288 with 1 Axes>"
      ]
     },
     "metadata": {
      "needs_background": "light"
     },
     "output_type": "display_data"
    }
   ],
   "source": [
    "epoch_count = range(1, len(temp) + 1)\n",
    "plt.plot(epoch_count, temp)\n",
    "plt.xlabel('Epoch')\n",
    "plt.ylabel('Average Loss')\n",
    "plt.show()"
   ]
  },
  {
   "cell_type": "markdown",
   "metadata": {
    "id": "4-iSjv9UX-z2"
   },
   "source": [
    "### (c) (5 points) Report the final testing accuracy of trained model."
   ]
  },
  {
   "cell_type": "code",
   "execution_count": 10,
   "metadata": {},
   "outputs": [
    {
     "name": "stdout",
     "output_type": "stream",
     "text": [
      "Accuracy of the model on the test images: 99.905434 %\n"
     ]
    }
   ],
   "source": [
    "# Test the Model\n",
    "correct = 0\n",
    "total = 0\n",
    "for images, labels in test_loader:\n",
    "    images = images.reshape(-1, 28 * 28)\n",
    "    \n",
    "    outputs = svm_model(images)    \n",
    "    predicted = outputs.data >= 0\n",
    "    total += labels.size(0) \n",
    "    correct += (predicted.view(-1).long() == labels).sum()    \n",
    " \n",
    "print('Accuracy of the model on the test images: %f %%' % (100 * (correct.float() / total)))"
   ]
  },
  {
   "cell_type": "markdown",
   "metadata": {
    "id": "kegz8m6glB3d"
   },
   "source": [
    "## Problem 2 (60 points)\n",
    "\n",
    "In this problem you will practice implementing MLP and CNN to classify daily life images (CIFAR10).\n",
    "\n",
    "**Data.** You will use CIFAR10 classification dataset (10 classes). Pytorch/torchvision has provide a useful dataloader to automatically download and load the data into batches. Code of the data loader has been provided in the template. Please don't modify the data loading part."
   ]
  },
  {
   "cell_type": "code",
   "execution_count": 11,
   "metadata": {
    "colab": {
     "base_uri": "https://localhost:8080/",
     "height": 85,
     "referenced_widgets": [
      "4d38c9b0e29c4784a37d344e8ad3630d",
      "4ace3a5ad972423d9665a8ca6a029135",
      "4f9fcab3ba6b4b7a9a03ed53e80df32e",
      "5da8f0b390df4510b3934dbd67de7507",
      "5cf7f23a686b42f9aa591883bd0f7056",
      "96c9940a1917438dae17387c60001ff0",
      "557765e12e9e4c29aae4ebbad5e54cb2",
      "004abe6fd8a54c07a750ba90ab01cefe",
      "318c99e9bd8b47e4b7b1fdbc83248971",
      "ceb9b08030ee40f9864f48cd0d03b3b3",
      "1f35bdd3e48a4e10a3446f54aa248b71"
     ]
    },
    "id": "sJStVuRpqkzS",
    "outputId": "50dd2d7d-11ac-4c18-dba8-56b624626164"
   },
   "outputs": [
    {
     "name": "stdout",
     "output_type": "stream",
     "text": [
      "Files already downloaded and verified\n"
     ]
    }
   ],
   "source": [
    "## Data loading code chunk, please don't modify it. \n",
    "## However, you can adjust the batch size if you want to.\n",
    "batch_size = 64\n",
    "batch_size_cifar = 64\n",
    "data_dir = './data'\n",
    "\n",
    "def cifar_loaders(batch_size, shuffle_test=False): \n",
    "    normalize = transforms.Normalize(mean=[0.485, 0.456, 0.406],\n",
    "                                     std=[0.225, 0.225, 0.225])\n",
    "    train_new = datasets.CIFAR10(data_dir, train=True, download=True, \n",
    "        transform=transforms.Compose([\n",
    "            transforms.RandomHorizontalFlip(),\n",
    "            transforms.RandomCrop(32, 4),\n",
    "            transforms.ToTensor(),\n",
    "            normalize,\n",
    "        ]))\n",
    "    # Once you have downloaded the data by setting download=True, you can\n",
    "    # change download=True to download=False\n",
    "    test_new = datasets.CIFAR10(data_dir, train=False, \n",
    "        transform=transforms.Compose([transforms.ToTensor(), normalize]))\n",
    "    train_loader_new = torch.utils.data.DataLoader(train_new, batch_size=batch_size,\n",
    "        shuffle=True, pin_memory=True)\n",
    "    test_loader_new = torch.utils.data.DataLoader(test_new, batch_size=batch_size,\n",
    "        shuffle=shuffle_test, pin_memory=True)\n",
    "    return train_loader_new, test_loader_new\n",
    "\n",
    "train_loader_new, test_loader_new = cifar_loaders(batch_size_cifar)"
   ]
  },
  {
   "cell_type": "markdown",
   "metadata": {
    "id": "vZWcD3ufnEcJ"
   },
   "source": [
    "### **Problem Description.**\n",
    "### 1. (20 points) Implement a 7 layers fully-connected neural networks with ReLU activation to do image classification. "
   ]
  },
  {
   "cell_type": "code",
   "execution_count": 12,
   "metadata": {
    "id": "Crl5zJ-5aPM3"
   },
   "outputs": [
    {
     "name": "stdout",
     "output_type": "stream",
     "text": [
      "Epoch [1/10], Averge Loss:for epoch[1, 2.0839]\n",
      "Epoch [2/10], Averge Loss:for epoch[2, 1.7891]\n",
      "Epoch [3/10], Averge Loss:for epoch[3, 1.6687]\n",
      "Epoch [4/10], Averge Loss:for epoch[4, 1.6051]\n",
      "Epoch [5/10], Averge Loss:for epoch[5, 1.5514]\n",
      "Epoch [6/10], Averge Loss:for epoch[6, 1.5209]\n",
      "Epoch [7/10], Averge Loss:for epoch[7, 1.4918]\n",
      "Epoch [8/10], Averge Loss:for epoch[8, 1.4703]\n",
      "Epoch [9/10], Averge Loss:for epoch[9, 1.4481]\n",
      "Epoch [10/10], Averge Loss:for epoch[10, 1.4335]\n"
     ]
    }
   ],
   "source": [
    "batch_size = 64\n",
    "test_batch_size = 64\n",
    "input_size = 3072\n",
    "\n",
    "class SevenLayerFC_Net(nn.Module):\n",
    "    def __init__(self, D_in,H,D_out):\n",
    "        \"\"\"\n",
    "        In the constructor we instantiate three nn.Linear modules and assign them as\n",
    "        member variables.\n",
    "        \"\"\"\n",
    "        super(SevenLayerFC_Net, self).__init__()\n",
    "        self.linear1 = torch.nn.Linear(D_in, H)\n",
    "        self.linear2 = torch.nn.Linear(H, H)\n",
    "        self.linear3 = torch.nn.Linear(H, H)\n",
    "        self.linear4 = torch.nn.Linear(H, H)\n",
    "        self.linear5 = torch.nn.Linear(H, H)\n",
    "        self.linear6 = torch.nn.Linear(H, H)\n",
    "        self.linear7 = torch.nn.Linear(H, D_out)\n",
    "\n",
    "        \n",
    "    def forward(self, x):\n",
    "        \"\"\"\n",
    "        In the forward function we accept a Tensor of input data and we must return\n",
    "        a Tensor of output data. We can use Modules defined in the constructor as\n",
    "        well as arbitrary operators on Tensors.\n",
    "        \"\"\"\n",
    "        x = F.relu(self.linear1(x))\n",
    "        x = F.relu(self.linear2(x))\n",
    "        x = F.relu(self.linear3(x))\n",
    "        x = F.relu(self.linear4(x))\n",
    "        x = F.relu(self.linear5(x))\n",
    "        x = F.relu(self.linear6(x))\n",
    "        x = self.linear7(x)\n",
    "        return F.log_softmax(x, dim=1)\n",
    "      \n",
    "      # N is batch size; D_in is input dimension;\n",
    "# H is hidden dimension; D_out is output dimension.\n",
    "N, D_in, H, D_out = batch_size, input_size, 200, 10\n",
    "num_epochs = 10\n",
    "\n",
    "\n",
    "\n",
    "# Create random Tensors to hold inputs and outputs\n",
    "x = torch.randn(N, D_in)\n",
    "y = torch.randn(N, D_out)\n",
    "\n",
    "# Construct our model by instantiating the class defined above\n",
    "model = SevenLayerFC_Net(D_in, H, D_out)\n",
    "#print(model)\n",
    "\n",
    "# Construct our loss function and an Optimizer. The call to model.parameters()\n",
    "# in the SGD constructor will contain the learnable parameters of the two\n",
    "# nn.Linear modules which are members of the model.\n",
    "criterion = nn.CrossEntropyLoss()\n",
    "optimizer = torch.optim.SGD(model.parameters(), lr=0.01, momentum=0.9)\n",
    "\n",
    "temp7_layers = []\n",
    "\n",
    "for epoch in range(num_epochs):\n",
    "    avg_loss_epoch = 0\n",
    "    batch_loss = 0\n",
    "    total_batches = 0\n",
    "\n",
    "    for i, (images, labels) in enumerate(train_loader_new):\n",
    "        # Reshape images to (batch_size, input_size)\n",
    "\n",
    "        images = images.reshape(-1, 32*32*3)            \n",
    "\n",
    "        #print(images.shape)\n",
    "        outputs = model(images)\n",
    "\n",
    "        loss = criterion(outputs, labels)    \n",
    "        \n",
    "        # Backward and optimize\n",
    "        optimizer.zero_grad()\n",
    "        loss.backward()\n",
    "        optimizer.step()   \n",
    "\n",
    "        total_batches += 1     \n",
    "        batch_loss += loss.item()\n",
    "\n",
    "    temp7_layers.append(batch_loss/total_batches)\n",
    "\n",
    "    avg_loss_epoch = batch_loss/total_batches\n",
    "    print ('Epoch [{}/{}], Averge Loss:for epoch[{}, {:.4f}]' \n",
    "                   .format(epoch+1, num_epochs, epoch+1, avg_loss_epoch ))"
   ]
  },
  {
   "cell_type": "markdown",
   "metadata": {
    "id": "L7AJxlCVZA4L"
   },
   "source": [
    "### (a) (5 points) Print the model architecture."
   ]
  },
  {
   "cell_type": "code",
   "execution_count": 13,
   "metadata": {
    "id": "vK8zxDXqZSLw"
   },
   "outputs": [
    {
     "name": "stdout",
     "output_type": "stream",
     "text": [
      "SevenLayerFC_Net(\n",
      "  (linear1): Linear(in_features=3072, out_features=200, bias=True)\n",
      "  (linear2): Linear(in_features=200, out_features=200, bias=True)\n",
      "  (linear3): Linear(in_features=200, out_features=200, bias=True)\n",
      "  (linear4): Linear(in_features=200, out_features=200, bias=True)\n",
      "  (linear5): Linear(in_features=200, out_features=200, bias=True)\n",
      "  (linear6): Linear(in_features=200, out_features=200, bias=True)\n",
      "  (linear7): Linear(in_features=200, out_features=10, bias=True)\n",
      ")\n"
     ]
    }
   ],
   "source": [
    "print(model)"
   ]
  },
  {
   "cell_type": "markdown",
   "metadata": {
    "id": "KYWHWEGinOyC"
   },
   "source": [
    "### (b) (10 points) Report the **Average loss of an epoch** for every epoch by generating Average Loss vs. Epoch plot. Please report at least **10** epochs."
   ]
  },
  {
   "cell_type": "code",
   "execution_count": 14,
   "metadata": {
    "id": "L8pJfqcHm89-"
   },
   "outputs": [
    {
     "data": {
      "image/png": "[encoded data removed]",
      "text/plain": [
       "<Figure size 432x288 with 1 Axes>"
      ]
     },
     "metadata": {
      "needs_background": "light"
     },
     "output_type": "display_data"
    }
   ],
   "source": [
    "epoch_count = range(1, len(temp7_layers) + 1)\n",
    "plt.plot(epoch_count, temp7_layers)\n",
    "plt.xlabel('Epoch')\n",
    "plt.ylabel('Average Loss')\n",
    "plt.show()"
   ]
  },
  {
   "cell_type": "markdown",
   "metadata": {
    "id": "2CSl47RKppHM"
   },
   "source": [
    "### (c) (5 points) Report the final testing accuracy of trained model."
   ]
  },
  {
   "cell_type": "code",
   "execution_count": 15,
   "metadata": {
    "id": "j56JIxgGabx4"
   },
   "outputs": [
    {
     "name": "stdout",
     "output_type": "stream",
     "text": [
      "Accuracy of the network on the 10000 test images: 49 %\n"
     ]
    }
   ],
   "source": [
    "correct = 0.\n",
    "total = 0.\n",
    "for images, labels in test_loader_new:\n",
    "    images = images.reshape(-1, 3*32*32)\n",
    "    outputs_test = model(images)\n",
    "    _, predicted = torch.max(outputs_test.data, 1)\n",
    "    total += labels.size(0) \n",
    "    correct += (predicted == labels).sum().item()\n",
    "print('Accuracy of the network on the 10000 test images: %d %%' % (     100 * correct / total))"
   ]
  },
  {
   "cell_type": "markdown",
   "metadata": {
    "id": "VbHsQrUyqNCR"
   },
   "source": [
    "### 2. (30 points) Implement a 7 layers CNN with 4 convolutional layers, 3 fully-connected layers and ReLU activation function. The input dimension of the 1st fully-connected layer must be 4096."
   ]
  },
  {
   "cell_type": "code",
   "execution_count": 16,
   "metadata": {},
   "outputs": [
    {
     "name": "stdout",
     "output_type": "stream",
     "text": [
      "Files already downloaded and verified\n"
     ]
    }
   ],
   "source": [
    "## Data loading code chunk, please don't modify it. \n",
    "## However, you can adjust the batch size if you want to.\n",
    "batch_size = 64\n",
    "batch_size_cifar = 64\n",
    "data_dir = './data'\n",
    "\n",
    "def cifar_loaders(batch_size, shuffle_test=False): \n",
    "    normalize = transforms.Normalize(mean=[0.485, 0.456, 0.406],\n",
    "                                     std=[0.225, 0.225, 0.225])\n",
    "    train_new = datasets.CIFAR10(data_dir, train=True, download=True, \n",
    "        transform=transforms.Compose([\n",
    "            transforms.RandomHorizontalFlip(),\n",
    "            transforms.RandomCrop(32, 4),\n",
    "            transforms.ToTensor(),\n",
    "            normalize,\n",
    "        ]))\n",
    "    # Once you have downloaded the data by setting download=True, you can\n",
    "    # change download=True to download=False\n",
    "    test_new = datasets.CIFAR10(data_dir, train=False, \n",
    "        transform=transforms.Compose([transforms.ToTensor(), normalize]))\n",
    "    train_loader_new = torch.utils.data.DataLoader(train_new, batch_size=batch_size,\n",
    "        shuffle=True, pin_memory=True)\n",
    "    test_loader_new = torch.utils.data.DataLoader(test_new, batch_size=batch_size,\n",
    "        shuffle=shuffle_test, pin_memory=True)\n",
    "    return train_loader_new, test_loader_new\n",
    "\n",
    "train_loader_new, test_loader_new = cifar_loaders(batch_size_cifar)"
   ]
  },
  {
   "cell_type": "code",
   "execution_count": 31,
   "metadata": {},
   "outputs": [],
   "source": [
    "## Data loading code chunk, please don't modify it. \n",
    "## However, you can adjust the batch size if you want to.\n",
    "batch_size = 64\n",
    "test_batch_size = 64\n",
    "input_size = 32*32*3\n",
    "\n",
    "class ConvNet(nn.Module):\n",
    "    def __init__(self):\n",
    "        super(ConvNet, self).__init__()\n",
    "        self.conv1 = nn.Conv2d(in_channels=3, out_channels=6, kernel_size=(3,3), padding=(1,1))\n",
    "        self.conv2 = nn.Conv2d(in_channels=6, out_channels=12, kernel_size=(3,3), padding=(1,1))\n",
    "        self.conv3 = nn.Conv2d(in_channels=12, out_channels=24, kernel_size=(3,3), padding=(1,1))\n",
    "        self.conv4 = nn.Conv2d(in_channels=24, out_channels=48, kernel_size=(3,3), padding=(1,1))\n",
    "        self.pool = nn.MaxPool2d(2,2)\n",
    "        self.fc8 = nn.Linear(in_features=8*8*48, out_features=512)\n",
    "        self.fc9 = nn.Linear(in_features=512, out_features=64)\n",
    "        self.fc10 = nn.Linear(in_features=64, out_features=10)\n",
    "\n",
    "        \n",
    "    def forward(self, x):\n",
    "        x = F.relu(self.conv1(x)) #32*32*6\n",
    "        x = F.relu(self.conv2(x)) #32*32*12\n",
    "        x = self.pool(x) #16*16*12\n",
    "        x = F.relu(self.conv3(x)) #16*16*24\n",
    "        x = F.relu(self.conv4(x)) #16*16*48\n",
    "        x = self.pool(x) # 8*8*48\n",
    "        x = x.view(x.size(0), -1) # reshape x\n",
    "        x = F.relu(self.fc8(x))\n",
    "        x = F.relu(self.fc9(x))\n",
    "        x = self.fc10(x)\n",
    "        return F.log_softmax(x, dim=1)"
   ]
  },
  {
   "cell_type": "code",
   "execution_count": null,
   "metadata": {},
   "outputs": [
    {
     "name": "stdout",
     "output_type": "stream",
     "text": [
      "Epoch [1/20], Averge Loss:for epoch[1, 1.9534]\n",
      "Epoch [2/20], Averge Loss:for epoch[2, 1.5004]\n",
      "Epoch [3/20], Averge Loss:for epoch[3, 1.2677]\n",
      "Epoch [4/20], Averge Loss:for epoch[4, 1.1251]\n",
      "Epoch [5/20], Averge Loss:for epoch[5, 1.0115]\n",
      "Epoch [6/20], Averge Loss:for epoch[6, 0.9388]\n",
      "Epoch [7/20], Averge Loss:for epoch[7, 0.8643]\n",
      "Epoch [8/20], Averge Loss:for epoch[8, 0.8305]\n",
      "Epoch [9/20], Averge Loss:for epoch[9, 0.7854]\n",
      "Epoch [10/20], Averge Loss:for epoch[10, 0.7570]\n",
      "Epoch [11/20], Averge Loss:for epoch[11, 0.7251]\n",
      "Epoch [12/20], Averge Loss:for epoch[12, 0.7053]\n",
      "Epoch [13/20], Averge Loss:for epoch[13, 0.6846]\n",
      "Epoch [14/20], Averge Loss:for epoch[14, 0.6603]\n",
      "Epoch [15/20], Averge Loss:for epoch[15, 0.6486]\n",
      "Epoch [16/20], Averge Loss:for epoch[16, 0.6273]\n",
      "Epoch [17/20], Averge Loss:for epoch[17, 0.6272]\n"
     ]
    }
   ],
   "source": [
    "#training\n",
    "num_epochs = 20\n",
    "net = ConvNet()\n",
    "criterion = nn.CrossEntropyLoss()\n",
    "optimizer_new = torch.optim.SGD(net.parameters(), lr=0.01, momentum=0.9)\n",
    "temp_cnn1_layers = []\n",
    "for epoch in range(num_epochs):\n",
    "    avg_loss_epoch_new = 0\n",
    "    batch_loss_new = 0\n",
    "    total_batches_new = 0\n",
    "\n",
    "    for i, (input_data, classes) in enumerate (train_loader_new,0):\n",
    "        optimizer_new.zero_grad() # every time reset the parameter gradients to zero\n",
    "        # forward backward optimize\n",
    "        output_new = net(input_data)\n",
    "        loss_new = criterion(output_new, classes)\n",
    "        loss_new.backward()\n",
    "        optimizer_new.step()\n",
    "        # print the loss\n",
    "        total_batches_new += 1     \n",
    "        batch_loss_new += loss_new.item()\n",
    "\n",
    "    avg_loss_epoch_new = batch_loss_new/total_batches_new\n",
    "    temp_cnn1_layers.append(avg_loss_epoch_new)\n",
    "        # print the loss after every epoch\n",
    "    print ('Epoch [{}/{}], Averge Loss:for epoch[{}, {:.4f}]' \n",
    "                   .format(epoch+1, num_epochs, epoch+1, avg_loss_epoch_new ))"
   ]
  },
  {
   "cell_type": "markdown",
   "metadata": {
    "id": "9X_eNkjVqUtJ"
   },
   "source": [
    "### (a) (5 points) Print the model architecture."
   ]
  },
  {
   "cell_type": "code",
   "execution_count": 28,
   "metadata": {
    "id": "uauSCPLpa5zp"
   },
   "outputs": [
    {
     "name": "stdout",
     "output_type": "stream",
     "text": [
      "ConvNet(\n",
      "  (conv1): Conv2d(3, 6, kernel_size=(3, 3), stride=(1, 1), padding=(1, 1))\n",
      "  (conv2): Conv2d(6, 12, kernel_size=(3, 3), stride=(1, 1), padding=(1, 1))\n",
      "  (conv3): Conv2d(12, 24, kernel_size=(3, 3), stride=(1, 1), padding=(1, 1))\n",
      "  (conv4): Conv2d(24, 48, kernel_size=(3, 3), stride=(1, 1), padding=(1, 1))\n",
      "  (pool): MaxPool2d(kernel_size=2, stride=2, padding=0, dilation=1, ceil_mode=False)\n",
      "  (fc8): Linear(in_features=3072, out_features=512, bias=True)\n",
      "  (fc9): Linear(in_features=512, out_features=64, bias=True)\n",
      "  (fc10): Linear(in_features=64, out_features=10, bias=True)\n",
      ")\n"
     ]
    }
   ],
   "source": [
    "print(net)"
   ]
  },
  {
   "cell_type": "markdown",
   "metadata": {
    "id": "1YsS3aAwa7m5"
   },
   "source": [
    "### (b) (10 points) Report the **Average loss of an epoch** for every epoch by generating Average Loss vs. Epoch plot. Please report at least **10** epochs."
   ]
  },
  {
   "cell_type": "code",
   "execution_count": 24,
   "metadata": {},
   "outputs": [
    {
     "data": {
      "image/png": "[encoded data removed]",
      "text/plain": [
       "<Figure size 432x288 with 1 Axes>"
      ]
     },
     "metadata": {
      "needs_background": "light"
     },
     "output_type": "display_data"
    }
   ],
   "source": [
    "epoch_count = range(1, len(temp_cnn1_layers) + 1)\n",
    "plt.plot(epoch_count, temp_cnn1_layers)\n",
    "plt.xlabel('Epoch')\n",
    "plt.ylabel('Average Loss')\n",
    "plt.show()"
   ]
  },
  {
   "cell_type": "markdown",
   "metadata": {
    "id": "pb3abqoabCc1"
   },
   "source": [
    "### (c) (5 points) Report the final testing accuracy of trained model."
   ]
  },
  {
   "cell_type": "code",
   "execution_count": null,
   "metadata": {
    "id": "L7_rnkvdbEWN"
   },
   "outputs": [],
   "source": [
    "net.eval()\n",
    "correct = 0\n",
    "total = 0\n",
    "for data in test_loader_new:\n",
    "    input_data, classes = data\n",
    "    output_new = net(input_data)\n",
    "    _, predicted = torch.max(output_new.data, 1)\n",
    "    total += classes.size(0)\n",
    "    correct += (predicted == classes).sum().item()\n",
    "print('Accuracy of the network on the 10000 test images: %d %%' % (     100 * correct / total))"
   ]
  },
  {
   "cell_type": "code",
   "execution_count": 30,
   "metadata": {},
   "outputs": [
    {
     "name": "stdout",
     "output_type": "stream",
     "text": [
      "Accuracy of plane : 50 %\n",
      "Accuracy of   car : 56 %\n",
      "Accuracy of  bird : 13 %\n",
      "Accuracy of   cat : 26 %\n",
      "Accuracy of  deer :  3 %\n",
      "Accuracy of   dog : 57 %\n",
      "Accuracy of  frog : 53 %\n",
      "Accuracy of horse : 62 %\n",
      "Accuracy of  ship : 67 %\n",
      "Accuracy of truck : 50 %\n"
     ]
    }
   ],
   "source": [
    "objects = ('plane', 'car', 'bird', 'cat',\n",
    "           'deer', 'dog', 'frog', 'horse', 'ship', 'truck')\n",
    "class_correct = list(0. for i in range(10))\n",
    "class_total = list(0. for i in range(10))\n",
    "with torch.no_grad():\n",
    "    for data in test_loader_new:\n",
    "        input_data, classes = data\n",
    "        output_new = net(input_data)\n",
    "        _, predicted = torch.max(output_new, 1)\n",
    "        c = (predicted == classes).squeeze()\n",
    "        for i in range(4):\n",
    "            label = classes[i]\n",
    "            class_correct[label] += c[i].item()\n",
    "            class_total[label] += 1\n",
    "\n",
    "\n",
    "for i in range(10):\n",
    "    print('Accuracy of %5s : %2d %%' % (\n",
    "        objects[i], 100 * class_correct[i] / class_total[i]))"
   ]
  },
  {
   "cell_type": "markdown",
   "metadata": {
    "id": "m1tfLFPRbFYZ"
   },
   "source": [
    "### (d) (10 points) Write a new cifar$\\_$loaders function to try different data augmentation methods."
   ]
  },
  {
   "cell_type": "code",
   "execution_count": 22,
   "metadata": {
    "id": "ck8sXvXqbH4C"
   },
   "outputs": [
    {
     "name": "stdout",
     "output_type": "stream",
     "text": [
      "Files already downloaded and verified\n"
     ]
    }
   ],
   "source": [
    "batch_size = 64\n",
    "batch_size_cifar = 64\n",
    "data_dir = './data'\n",
    "brightness = 0.5\n",
    "def cifar_loaders(batch_size, shuffle_test=False): \n",
    "    normalize = transforms.Normalize(mean=[0.485, 0.456, 0.406],\n",
    "                                     std=[0.225, 0.225, 0.225])\n",
    "    train_star = datasets.CIFAR10(data_dir, train=True, download=True, \n",
    "        transform=transforms.Compose([\n",
    "            transforms.RandomHorizontalFlip(),\n",
    "            transforms.ColorJitter(brightness = [max(0, 1 - brightness), 1 + brightness]),\n",
    "            transforms.RandomCrop(32, 4),\n",
    "            transforms.ToTensor(),\n",
    "            normalize,\n",
    "        ]))\n",
    "    # Once you have downloaded the data by setting download=True, you can\n",
    "    # change download=True to download=False\n",
    "    test_star = datasets.CIFAR10(data_dir, train=False, \n",
    "        transform=transforms.Compose([transforms.ToTensor(), normalize]))\n",
    "    train_loader_star = torch.utils.data.DataLoader(train_star, batch_size=batch_size,\n",
    "        shuffle=True, pin_memory=True)\n",
    "    test_loader_star = torch.utils.data.DataLoader(test_star, batch_size=batch_size,\n",
    "        shuffle=shuffle_test, pin_memory=True)\n",
    "    return train_loader_star, test_loader_star\n",
    "\n",
    "train_loader_star, test_loader_star = cifar_loaders(batch_size_cifar)"
   ]
  },
  {
   "cell_type": "markdown",
   "metadata": {
    "id": "7uUForcfbI1W"
   },
   "source": [
    "Answer: I add a brightness change in data argmentation."
   ]
  },
  {
   "cell_type": "markdown",
   "metadata": {
    "id": "pF01LpJsbXSU"
   },
   "source": [
    "### 3. (10 points) Please compare the results of the two models (MLP and CNN)."
   ]
  },
  {
   "cell_type": "markdown",
   "metadata": {
    "id": "QpTZ4mm9bZxn"
   },
   "source": [
    "Answer: By comparing the loss and accuracy of MLP and CNN, we can see that the CNN model has low loss and higher accuracy but the difference is not very large. Hence, if we want higher accuracy and lower loss, we need to improve my CNN architecture. "
   ]
  }
 ],
 "metadata": {
  "accelerator": "GPU",
  "colab": {
   "collapsed_sections": [],
   "provenance": []
  },
  "kernelspec": {
   "display_name": "Python 3 (ipykernel)",
   "language": "python",
   "name": "python3"
  },
  "language_info": {
   "codemirror_mode": {
    "name": "ipython",
    "version": 3
   },
   "file_extension": ".py",
   "mimetype": "text/x-python",
   "name": "python",
   "nbconvert_exporter": "python",
   "pygments_lexer": "ipython3",
   "version": "3.9.12"
  },
  "widgets": {
   "application/vnd.jupyter.widget-state+json": {
    "004abe6fd8a54c07a750ba90ab01cefe": {
     "model_module": "@jupyter-widgets/base",
     "model_module_version": "1.2.0",
     "model_name": "LayoutModel",
     "state": {
      "_model_module": "@jupyter-widgets/base",
      "_model_module_version": "1.2.0",
      "_model_name": "LayoutModel",
      "_view_count": null,
      "_view_module": "@jupyter-widgets/base",
      "_view_module_version": "1.2.0",
      "_view_name": "LayoutView",
      "align_content": null,
      "align_items": null,
      "align_self": null,
      "border": null,
      "bottom": null,
      "display": null,
      "flex": null,
      "flex_flow": null,
      "grid_area": null,
      "grid_auto_columns": null,
      "grid_auto_flow": null,
      "grid_auto_rows": null,
      "grid_column": null,
      "grid_gap": null,
      "grid_row": null,
      "grid_template_areas": null,
      "grid_template_columns": null,
      "grid_template_rows": null,
      "height": null,
      "justify_content": null,
      "justify_items": null,
      "left": null,
      "margin": null,
      "max_height": null,
      "max_width": null,
      "min_height": null,
      "min_width": null,
      "object_fit": null,
      "object_position": null,
      "order": null,
      "overflow": null,
      "overflow_x": null,
      "overflow_y": null,
      "padding": null,
      "right": null,
      "top": null,
      "visibility": null,
      "width": null
     }
    },
    "065b5693d35049e6a3d05f43b850e840": {
     "model_module": "@jupyter-widgets/controls",
     "model_module_version": "1.5.0",
     "model_name": "HTMLModel",
     "state": {
      "_dom_classes": [],
      "_model_module": "@jupyter-widgets/controls",
      "_model_module_version": "1.5.0",
      "_model_name": "HTMLModel",
      "_view_count": null,
      "_view_module": "@jupyter-widgets/controls",
      "_view_module_version": "1.5.0",
      "_view_name": "HTMLView",
      "description": "",
      "description_tooltip": null,
      "layout": "IPY_MODEL_a1b2b2c5f0cd456fb3dafa2eef6d8b85",
      "placeholder": "​",
      "style": "IPY_MODEL_ae31c4e15aba4a36996316eb6189a846",
      "value": " 4542/4542 [00:00&lt;00:00, 105964.61it/s]"
     }
    },
    "07ffae740d404ee78889a0142fdf053e": {
     "model_module": "@jupyter-widgets/base",
     "model_module_version": "1.2.0",
     "model_name": "LayoutModel",
     "state": {
      "_model_module": "@jupyter-widgets/base",
      "_model_module_version": "1.2.0",
      "_model_name": "LayoutModel",
      "_view_count": null,
      "_view_module": "@jupyter-widgets/base",
      "_view_module_version": "1.2.0",
      "_view_name": "LayoutView",
      "align_content": null,
      "align_items": null,
      "align_self": null,
      "border": null,
      "bottom": null,
      "display": null,
      "flex": null,
      "flex_flow": null,
      "grid_area": null,
      "grid_auto_columns": null,
      "grid_auto_flow": null,
      "grid_auto_rows": null,
      "grid_column": null,
      "grid_gap": null,
      "grid_row": null,
      "grid_template_areas": null,
      "grid_template_columns": null,
      "grid_template_rows": null,
      "height": null,
      "justify_content": null,
      "justify_items": null,
      "left": null,
      "margin": null,
      "max_height": null,
      "max_width": null,
      "min_height": null,
      "min_width": null,
      "object_fit": null,
      "object_position": null,
      "order": null,
      "overflow": null,
      "overflow_x": null,
      "overflow_y": null,
      "padding": null,
      "right": null,
      "top": null,
      "visibility": null,
      "width": null
     }
    },
    "0e0efbf7811a42c99c09691d2f5de07b": {
     "model_module": "@jupyter-widgets/controls",
     "model_module_version": "1.5.0",
     "model_name": "HTMLModel",
     "state": {
      "_dom_classes": [],
      "_model_module": "@jupyter-widgets/controls",
      "_model_module_version": "1.5.0",
      "_model_name": "HTMLModel",
      "_view_count": null,
      "_view_module": "@jupyter-widgets/controls",
      "_view_module_version": "1.5.0",
      "_view_name": "HTMLView",
      "description": "",
      "description_tooltip": null,
      "layout": "IPY_MODEL_49e81101296c4bafb0917cd0bbd62a86",
      "placeholder": "​",
      "style": "IPY_MODEL_efd9d8ea65114fb1869c243944a8c7a0",
      "value": "100%"
     }
    },
    "0eec3287dc814f5ab3b9a91edf835540": {
     "model_module": "@jupyter-widgets/controls",
     "model_module_version": "1.5.0",
     "model_name": "DescriptionStyleModel",
     "state": {
      "_model_module": "@jupyter-widgets/controls",
      "_model_module_version": "1.5.0",
      "_model_name": "DescriptionStyleModel",
      "_view_count": null,
      "_view_module": "@jupyter-widgets/base",
      "_view_module_version": "1.2.0",
      "_view_name": "StyleView",
      "description_width": ""
     }
    },
    "1476c80846f045c39e745f1d0a153a17": {
     "model_module": "@jupyter-widgets/controls",
     "model_module_version": "1.5.0",
     "model_name": "FloatProgressModel",
     "state": {
      "_dom_classes": [],
      "_model_module": "@jupyter-widgets/controls",
      "_model_module_version": "1.5.0",
      "_model_name": "FloatProgressModel",
      "_view_count": null,
      "_view_module": "@jupyter-widgets/controls",
      "_view_module_version": "1.5.0",
      "_view_name": "ProgressView",
      "bar_style": "success",
      "description": "",
      "description_tooltip": null,
      "layout": "IPY_MODEL_f7c3e17f9dae453596ace5ef18cf41aa",
      "max": 1648877,
      "min": 0,
      "orientation": "horizontal",
      "style": "IPY_MODEL_d38917a039e04073a8fe0f7dae068ddc",
      "value": 1648877
     }
    },
    "1c3c5a6e87634fde9ba3588de1c3ea05": {
     "model_module": "@jupyter-widgets/controls",
     "model_module_version": "1.5.0",
     "model_name": "HBoxModel",
     "state": {
      "_dom_classes": [],
      "_model_module": "@jupyter-widgets/controls",
      "_model_module_version": "1.5.0",
      "_model_name": "HBoxModel",
      "_view_count": null,
      "_view_module": "@jupyter-widgets/controls",
      "_view_module_version": "1.5.0",
      "_view_name": "HBoxView",
      "box_style": "",
      "children": [
       "IPY_MODEL_3af15d2a8d30471dbf5bec130565abe2",
       "IPY_MODEL_cd44a3d15d514fa0932e160cc475a9c7",
       "IPY_MODEL_065b5693d35049e6a3d05f43b850e840"
      ],
      "layout": "IPY_MODEL_1f9f8b431a8a47ee9d41706bf6929f76"
     }
    },
    "1f35bdd3e48a4e10a3446f54aa248b71": {
     "model_module": "@jupyter-widgets/controls",
     "model_module_version": "1.5.0",
     "model_name": "DescriptionStyleModel",
     "state": {
      "_model_module": "@jupyter-widgets/controls",
      "_model_module_version": "1.5.0",
      "_model_name": "DescriptionStyleModel",
      "_view_count": null,
      "_view_module": "@jupyter-widgets/base",
      "_view_module_version": "1.2.0",
      "_view_name": "StyleView",
      "description_width": ""
     }
    },
    "1f9f8b431a8a47ee9d41706bf6929f76": {
     "model_module": "@jupyter-widgets/base",
     "model_module_version": "1.2.0",
     "model_name": "LayoutModel",
     "state": {
      "_model_module": "@jupyter-widgets/base",
      "_model_module_version": "1.2.0",
      "_model_name": "LayoutModel",
      "_view_count": null,
      "_view_module": "@jupyter-widgets/base",
      "_view_module_version": "1.2.0",
      "_view_name": "LayoutView",
      "align_content": null,
      "align_items": null,
      "align_self": null,
      "border": null,
      "bottom": null,
      "display": null,
      "flex": null,
      "flex_flow": null,
      "grid_area": null,
      "grid_auto_columns": null,
      "grid_auto_flow": null,
      "grid_auto_rows": null,
      "grid_column": null,
      "grid_gap": null,
      "grid_row": null,
      "grid_template_areas": null,
      "grid_template_columns": null,
      "grid_template_rows": null,
      "height": null,
      "justify_content": null,
      "justify_items": null,
      "left": null,
      "margin": null,
      "max_height": null,
      "max_width": null,
      "min_height": null,
      "min_width": null,
      "object_fit": null,
      "object_position": null,
      "order": null,
      "overflow": null,
      "overflow_x": null,
      "overflow_y": null,
      "padding": null,
      "right": null,
      "top": null,
      "visibility": null,
      "width": null
     }
    },
    "2af0135ce3434a9fab62bf6c6e1af9f7": {
     "model_module": "@jupyter-widgets/controls",
     "model_module_version": "1.5.0",
     "model_name": "FloatProgressModel",
     "state": {
      "_dom_classes": [],
      "_model_module": "@jupyter-widgets/controls",
      "_model_module_version": "1.5.0",
      "_model_name": "FloatProgressModel",
      "_view_count": null,
      "_view_module": "@jupyter-widgets/controls",
      "_view_module_version": "1.5.0",
      "_view_name": "ProgressView",
      "bar_style": "success",
      "description": "",
      "description_tooltip": null,
      "layout": "IPY_MODEL_c2f91ed1e5d048c6b62f5ee523e7de38",
      "max": 9912422,
      "min": 0,
      "orientation": "horizontal",
      "style": "IPY_MODEL_770c76103bad4b779a3b67f98ed91233",
      "value": 9912422
     }
    },
    "2c45d830374b4e83935214c0247fcf89": {
     "model_module": "@jupyter-widgets/controls",
     "model_module_version": "1.5.0",
     "model_name": "HBoxModel",
     "state": {
      "_dom_classes": [],
      "_model_module": "@jupyter-widgets/controls",
      "_model_module_version": "1.5.0",
      "_model_name": "HBoxModel",
      "_view_count": null,
      "_view_module": "@jupyter-widgets/controls",
      "_view_module_version": "1.5.0",
      "_view_name": "HBoxView",
      "box_style": "",
      "children": [
       "IPY_MODEL_0e0efbf7811a42c99c09691d2f5de07b",
       "IPY_MODEL_5d74ec8bf85e4662bdcf1465fc881573",
       "IPY_MODEL_7d594ce39a5f4ed9adbec3eb8cc907a3"
      ],
      "layout": "IPY_MODEL_79d5501984c746a0ba0f0ba5d9a1a6d2"
     }
    },
    "318c99e9bd8b47e4b7b1fdbc83248971": {
     "model_module": "@jupyter-widgets/controls",
     "model_module_version": "1.5.0",
     "model_name": "ProgressStyleModel",
     "state": {
      "_model_module": "@jupyter-widgets/controls",
      "_model_module_version": "1.5.0",
      "_model_name": "ProgressStyleModel",
      "_view_count": null,
      "_view_module": "@jupyter-widgets/base",
      "_view_module_version": "1.2.0",
      "_view_name": "StyleView",
      "bar_color": null,
      "description_width": ""
     }
    },
    "31f60ef1a92a4dcb80a2db9ca62e7554": {
     "model_module": "@jupyter-widgets/controls",
     "model_module_version": "1.5.0",
     "model_name": "DescriptionStyleModel",
     "state": {
      "_model_module": "@jupyter-widgets/controls",
      "_model_module_version": "1.5.0",
      "_model_name": "DescriptionStyleModel",
      "_view_count": null,
      "_view_module": "@jupyter-widgets/base",
      "_view_module_version": "1.2.0",
      "_view_name": "StyleView",
      "description_width": ""
     }
    },
    "3af15d2a8d30471dbf5bec130565abe2": {
     "model_module": "@jupyter-widgets/controls",
     "model_module_version": "1.5.0",
     "model_name": "HTMLModel",
     "state": {
      "_dom_classes": [],
      "_model_module": "@jupyter-widgets/controls",
      "_model_module_version": "1.5.0",
      "_model_name": "HTMLModel",
      "_view_count": null,
      "_view_module": "@jupyter-widgets/controls",
      "_view_module_version": "1.5.0",
      "_view_name": "HTMLView",
      "description": "",
      "description_tooltip": null,
      "layout": "IPY_MODEL_83fc87171efd4f37bc2543cffa8616f8",
      "placeholder": "​",
      "style": "IPY_MODEL_31f60ef1a92a4dcb80a2db9ca62e7554",
      "value": "100%"
     }
    },
    "49e81101296c4bafb0917cd0bbd62a86": {
     "model_module": "@jupyter-widgets/base",
     "model_module_version": "1.2.0",
     "model_name": "LayoutModel",
     "state": {
      "_model_module": "@jupyter-widgets/base",
      "_model_module_version": "1.2.0",
      "_model_name": "LayoutModel",
      "_view_count": null,
      "_view_module": "@jupyter-widgets/base",
      "_view_module_version": "1.2.0",
      "_view_name": "LayoutView",
      "align_content": null,
      "align_items": null,
      "align_self": null,
      "border": null,
      "bottom": null,
      "display": null,
      "flex": null,
      "flex_flow": null,
      "grid_area": null,
      "grid_auto_columns": null,
      "grid_auto_flow": null,
      "grid_auto_rows": null,
      "grid_column": null,
      "grid_gap": null,
      "grid_row": null,
      "grid_template_areas": null,
      "grid_template_columns": null,
      "grid_template_rows": null,
      "height": null,
      "justify_content": null,
      "justify_items": null,
      "left": null,
      "margin": null,
      "max_height": null,
      "max_width": null,
      "min_height": null,
      "min_width": null,
      "object_fit": null,
      "object_position": null,
      "order": null,
      "overflow": null,
      "overflow_x": null,
      "overflow_y": null,
      "padding": null,
      "right": null,
      "top": null,
      "visibility": null,
      "width": null
     }
    },
    "4ace3a5ad972423d9665a8ca6a029135": {
     "model_module": "@jupyter-widgets/controls",
     "model_module_version": "1.5.0",
     "model_name": "HTMLModel",
     "state": {
      "_dom_classes": [],
      "_model_module": "@jupyter-widgets/controls",
      "_model_module_version": "1.5.0",
      "_model_name": "HTMLModel",
      "_view_count": null,
      "_view_module": "@jupyter-widgets/controls",
      "_view_module_version": "1.5.0",
      "_view_name": "HTMLView",
      "description": "",
      "description_tooltip": null,
      "layout": "IPY_MODEL_96c9940a1917438dae17387c60001ff0",
      "placeholder": "​",
      "style": "IPY_MODEL_557765e12e9e4c29aae4ebbad5e54cb2",
      "value": "100%"
     }
    },
    "4c5ceb0b8c964968bdb91a6ee705726f": {
     "model_module": "@jupyter-widgets/controls",
     "model_module_version": "1.5.0",
     "model_name": "HTMLModel",
     "state": {
      "_dom_classes": [],
      "_model_module": "@jupyter-widgets/controls",
      "_model_module_version": "1.5.0",
      "_model_name": "HTMLModel",
      "_view_count": null,
      "_view_module": "@jupyter-widgets/controls",
      "_view_module_version": "1.5.0",
      "_view_name": "HTMLView",
      "description": "",
      "description_tooltip": null,
      "layout": "IPY_MODEL_07ffae740d404ee78889a0142fdf053e",
      "placeholder": "​",
      "style": "IPY_MODEL_5b40f747509c4ff080eb5ade8da87038",
      "value": " 1648877/1648877 [00:00&lt;00:00, 41934825.35it/s]"
     }
    },
    "4d38c9b0e29c4784a37d344e8ad3630d": {
     "model_module": "@jupyter-widgets/controls",
     "model_module_version": "1.5.0",
     "model_name": "HBoxModel",
     "state": {
      "_dom_classes": [],
      "_model_module": "@jupyter-widgets/controls",
      "_model_module_version": "1.5.0",
      "_model_name": "HBoxModel",
      "_view_count": null,
      "_view_module": "@jupyter-widgets/controls",
      "_view_module_version": "1.5.0",
      "_view_name": "HBoxView",
      "box_style": "",
      "children": [
       "IPY_MODEL_4ace3a5ad972423d9665a8ca6a029135",
       "IPY_MODEL_4f9fcab3ba6b4b7a9a03ed53e80df32e",
       "IPY_MODEL_5da8f0b390df4510b3934dbd67de7507"
      ],
      "layout": "IPY_MODEL_5cf7f23a686b42f9aa591883bd0f7056"
     }
    },
    "4f9fcab3ba6b4b7a9a03ed53e80df32e": {
     "model_module": "@jupyter-widgets/controls",
     "model_module_version": "1.5.0",
     "model_name": "FloatProgressModel",
     "state": {
      "_dom_classes": [],
      "_model_module": "@jupyter-widgets/controls",
      "_model_module_version": "1.5.0",
      "_model_name": "FloatProgressModel",
      "_view_count": null,
      "_view_module": "@jupyter-widgets/controls",
      "_view_module_version": "1.5.0",
      "_view_name": "ProgressView",
      "bar_style": "success",
      "description": "",
      "description_tooltip": null,
      "layout": "IPY_MODEL_004abe6fd8a54c07a750ba90ab01cefe",
      "max": 170498071,
      "min": 0,
      "orientation": "horizontal",
      "style": "IPY_MODEL_318c99e9bd8b47e4b7b1fdbc83248971",
      "value": 170498071
     }
    },
    "557765e12e9e4c29aae4ebbad5e54cb2": {
     "model_module": "@jupyter-widgets/controls",
     "model_module_version": "1.5.0",
     "model_name": "DescriptionStyleModel",
     "state": {
      "_model_module": "@jupyter-widgets/controls",
      "_model_module_version": "1.5.0",
      "_model_name": "DescriptionStyleModel",
      "_view_count": null,
      "_view_module": "@jupyter-widgets/base",
      "_view_module_version": "1.2.0",
      "_view_name": "StyleView",
      "description_width": ""
     }
    },
    "5b40f747509c4ff080eb5ade8da87038": {
     "model_module": "@jupyter-widgets/controls",
     "model_module_version": "1.5.0",
     "model_name": "DescriptionStyleModel",
     "state": {
      "_model_module": "@jupyter-widgets/controls",
      "_model_module_version": "1.5.0",
      "_model_name": "DescriptionStyleModel",
      "_view_count": null,
      "_view_module": "@jupyter-widgets/base",
      "_view_module_version": "1.2.0",
      "_view_name": "StyleView",
      "description_width": ""
     }
    },
    "5cf7f23a686b42f9aa591883bd0f7056": {
     "model_module": "@jupyter-widgets/base",
     "model_module_version": "1.2.0",
     "model_name": "LayoutModel",
     "state": {
      "_model_module": "@jupyter-widgets/base",
      "_model_module_version": "1.2.0",
      "_model_name": "LayoutModel",
      "_view_count": null,
      "_view_module": "@jupyter-widgets/base",
      "_view_module_version": "1.2.0",
      "_view_name": "LayoutView",
      "align_content": null,
      "align_items": null,
      "align_self": null,
      "border": null,
      "bottom": null,
      "display": null,
      "flex": null,
      "flex_flow": null,
      "grid_area": null,
      "grid_auto_columns": null,
      "grid_auto_flow": null,
      "grid_auto_rows": null,
      "grid_column": null,
      "grid_gap": null,
      "grid_row": null,
      "grid_template_areas": null,
      "grid_template_columns": null,
      "grid_template_rows": null,
      "height": null,
      "justify_content": null,
      "justify_items": null,
      "left": null,
      "margin": null,
      "max_height": null,
      "max_width": null,
      "min_height": null,
      "min_width": null,
      "object_fit": null,
      "object_position": null,
      "order": null,
      "overflow": null,
      "overflow_x": null,
      "overflow_y": null,
      "padding": null,
      "right": null,
      "top": null,
      "visibility": null,
      "width": null
     }
    },
    "5d74ec8bf85e4662bdcf1465fc881573": {
     "model_module": "@jupyter-widgets/controls",
     "model_module_version": "1.5.0",
     "model_name": "FloatProgressModel",
     "state": {
      "_dom_classes": [],
      "_model_module": "@jupyter-widgets/controls",
      "_model_module_version": "1.5.0",
      "_model_name": "FloatProgressModel",
      "_view_count": null,
      "_view_module": "@jupyter-widgets/controls",
      "_view_module_version": "1.5.0",
      "_view_name": "ProgressView",
      "bar_style": "success",
      "description": "",
      "description_tooltip": null,
      "layout": "IPY_MODEL_db701d8dc7f94e3186300cb41254e826",
      "max": 28881,
      "min": 0,
      "orientation": "horizontal",
      "style": "IPY_MODEL_d64b96a0c3174c64bfdedc7e757d12f1",
      "value": 28881
     }
    },
    "5da8f0b390df4510b3934dbd67de7507": {
     "model_module": "@jupyter-widgets/controls",
     "model_module_version": "1.5.0",
     "model_name": "HTMLModel",
     "state": {
      "_dom_classes": [],
      "_model_module": "@jupyter-widgets/controls",
      "_model_module_version": "1.5.0",
      "_model_name": "HTMLModel",
      "_view_count": null,
      "_view_module": "@jupyter-widgets/controls",
      "_view_module_version": "1.5.0",
      "_view_name": "HTMLView",
      "description": "",
      "description_tooltip": null,
      "layout": "IPY_MODEL_ceb9b08030ee40f9864f48cd0d03b3b3",
      "placeholder": "​",
      "style": "IPY_MODEL_1f35bdd3e48a4e10a3446f54aa248b71",
      "value": " 170498071/170498071 [00:13&lt;00:00, 14506347.14it/s]"
     }
    },
    "5dc26107f5064b5fbf4004872b111cdc": {
     "model_module": "@jupyter-widgets/base",
     "model_module_version": "1.2.0",
     "model_name": "LayoutModel",
     "state": {
      "_model_module": "@jupyter-widgets/base",
      "_model_module_version": "1.2.0",
      "_model_name": "LayoutModel",
      "_view_count": null,
      "_view_module": "@jupyter-widgets/base",
      "_view_module_version": "1.2.0",
      "_view_name": "LayoutView",
      "align_content": null,
      "align_items": null,
      "align_self": null,
      "border": null,
      "bottom": null,
      "display": null,
      "flex": null,
      "flex_flow": null,
      "grid_area": null,
      "grid_auto_columns": null,
      "grid_auto_flow": null,
      "grid_auto_rows": null,
      "grid_column": null,
      "grid_gap": null,
      "grid_row": null,
      "grid_template_areas": null,
      "grid_template_columns": null,
      "grid_template_rows": null,
      "height": null,
      "justify_content": null,
      "justify_items": null,
      "left": null,
      "margin": null,
      "max_height": null,
      "max_width": null,
      "min_height": null,
      "min_width": null,
      "object_fit": null,
      "object_position": null,
      "order": null,
      "overflow": null,
      "overflow_x": null,
      "overflow_y": null,
      "padding": null,
      "right": null,
      "top": null,
      "visibility": null,
      "width": null
     }
    },
    "65cb6310831e487aa71da3e7cfa8c7af": {
     "model_module": "@jupyter-widgets/controls",
     "model_module_version": "1.5.0",
     "model_name": "DescriptionStyleModel",
     "state": {
      "_model_module": "@jupyter-widgets/controls",
      "_model_module_version": "1.5.0",
      "_model_name": "DescriptionStyleModel",
      "_view_count": null,
      "_view_module": "@jupyter-widgets/base",
      "_view_module_version": "1.2.0",
      "_view_name": "StyleView",
      "description_width": ""
     }
    },
    "770c76103bad4b779a3b67f98ed91233": {
     "model_module": "@jupyter-widgets/controls",
     "model_module_version": "1.5.0",
     "model_name": "ProgressStyleModel",
     "state": {
      "_model_module": "@jupyter-widgets/controls",
      "_model_module_version": "1.5.0",
      "_model_name": "ProgressStyleModel",
      "_view_count": null,
      "_view_module": "@jupyter-widgets/base",
      "_view_module_version": "1.2.0",
      "_view_name": "StyleView",
      "bar_color": null,
      "description_width": ""
     }
    },
    "79d5501984c746a0ba0f0ba5d9a1a6d2": {
     "model_module": "@jupyter-widgets/base",
     "model_module_version": "1.2.0",
     "model_name": "LayoutModel",
     "state": {
      "_model_module": "@jupyter-widgets/base",
      "_model_module_version": "1.2.0",
      "_model_name": "LayoutModel",
      "_view_count": null,
      "_view_module": "@jupyter-widgets/base",
      "_view_module_version": "1.2.0",
      "_view_name": "LayoutView",
      "align_content": null,
      "align_items": null,
      "align_self": null,
      "border": null,
      "bottom": null,
      "display": null,
      "flex": null,
      "flex_flow": null,
      "grid_area": null,
      "grid_auto_columns": null,
      "grid_auto_flow": null,
      "grid_auto_rows": null,
      "grid_column": null,
      "grid_gap": null,
      "grid_row": null,
      "grid_template_areas": null,
      "grid_template_columns": null,
      "grid_template_rows": null,
      "height": null,
      "justify_content": null,
      "justify_items": null,
      "left": null,
      "margin": null,
      "max_height": null,
      "max_width": null,
      "min_height": null,
      "min_width": null,
      "object_fit": null,
      "object_position": null,
      "order": null,
      "overflow": null,
      "overflow_x": null,
      "overflow_y": null,
      "padding": null,
      "right": null,
      "top": null,
      "visibility": null,
      "width": null
     }
    },
    "7d594ce39a5f4ed9adbec3eb8cc907a3": {
     "model_module": "@jupyter-widgets/controls",
     "model_module_version": "1.5.0",
     "model_name": "HTMLModel",
     "state": {
      "_dom_classes": [],
      "_model_module": "@jupyter-widgets/controls",
      "_model_module_version": "1.5.0",
      "_model_name": "HTMLModel",
      "_view_count": null,
      "_view_module": "@jupyter-widgets/controls",
      "_view_module_version": "1.5.0",
      "_view_name": "HTMLView",
      "description": "",
      "description_tooltip": null,
      "layout": "IPY_MODEL_e9367ed3012341529beb8170b00c1a0a",
      "placeholder": "​",
      "style": "IPY_MODEL_65cb6310831e487aa71da3e7cfa8c7af",
      "value": " 28881/28881 [00:00&lt;00:00, 631036.68it/s]"
     }
    },
    "83fc87171efd4f37bc2543cffa8616f8": {
     "model_module": "@jupyter-widgets/base",
     "model_module_version": "1.2.0",
     "model_name": "LayoutModel",
     "state": {
      "_model_module": "@jupyter-widgets/base",
      "_model_module_version": "1.2.0",
      "_model_name": "LayoutModel",
      "_view_count": null,
      "_view_module": "@jupyter-widgets/base",
      "_view_module_version": "1.2.0",
      "_view_name": "LayoutView",
      "align_content": null,
      "align_items": null,
      "align_self": null,
      "border": null,
      "bottom": null,
      "display": null,
      "flex": null,
      "flex_flow": null,
      "grid_area": null,
      "grid_auto_columns": null,
      "grid_auto_flow": null,
      "grid_auto_rows": null,
      "grid_column": null,
      "grid_gap": null,
      "grid_row": null,
      "grid_template_areas": null,
      "grid_template_columns": null,
      "grid_template_rows": null,
      "height": null,
      "justify_content": null,
      "justify_items": null,
      "left": null,
      "margin": null,
      "max_height": null,
      "max_width": null,
      "min_height": null,
      "min_width": null,
      "object_fit": null,
      "object_position": null,
      "order": null,
      "overflow": null,
      "overflow_x": null,
      "overflow_y": null,
      "padding": null,
      "right": null,
      "top": null,
      "visibility": null,
      "width": null
     }
    },
    "8c1c35e13a8d4aea96ad8e845ce5e1e4": {
     "model_module": "@jupyter-widgets/base",
     "model_module_version": "1.2.0",
     "model_name": "LayoutModel",
     "state": {
      "_model_module": "@jupyter-widgets/base",
      "_model_module_version": "1.2.0",
      "_model_name": "LayoutModel",
      "_view_count": null,
      "_view_module": "@jupyter-widgets/base",
      "_view_module_version": "1.2.0",
      "_view_name": "LayoutView",
      "align_content": null,
      "align_items": null,
      "align_self": null,
      "border": null,
      "bottom": null,
      "display": null,
      "flex": null,
      "flex_flow": null,
      "grid_area": null,
      "grid_auto_columns": null,
      "grid_auto_flow": null,
      "grid_auto_rows": null,
      "grid_column": null,
      "grid_gap": null,
      "grid_row": null,
      "grid_template_areas": null,
      "grid_template_columns": null,
      "grid_template_rows": null,
      "height": null,
      "justify_content": null,
      "justify_items": null,
      "left": null,
      "margin": null,
      "max_height": null,
      "max_width": null,
      "min_height": null,
      "min_width": null,
      "object_fit": null,
      "object_position": null,
      "order": null,
      "overflow": null,
      "overflow_x": null,
      "overflow_y": null,
      "padding": null,
      "right": null,
      "top": null,
      "visibility": null,
      "width": null
     }
    },
    "90d4e152390344cab6fdeec12e198b5a": {
     "model_module": "@jupyter-widgets/controls",
     "model_module_version": "1.5.0",
     "model_name": "HTMLModel",
     "state": {
      "_dom_classes": [],
      "_model_module": "@jupyter-widgets/controls",
      "_model_module_version": "1.5.0",
      "_model_name": "HTMLModel",
      "_view_count": null,
      "_view_module": "@jupyter-widgets/controls",
      "_view_module_version": "1.5.0",
      "_view_name": "HTMLView",
      "description": "",
      "description_tooltip": null,
      "layout": "IPY_MODEL_5dc26107f5064b5fbf4004872b111cdc",
      "placeholder": "​",
      "style": "IPY_MODEL_c0b386ce2ea54a0b9fe2f6288052daf0",
      "value": "100%"
     }
    },
    "969ca0d7077641d5ac0dc75593d2f3cd": {
     "model_module": "@jupyter-widgets/controls",
     "model_module_version": "1.5.0",
     "model_name": "ProgressStyleModel",
     "state": {
      "_model_module": "@jupyter-widgets/controls",
      "_model_module_version": "1.5.0",
      "_model_name": "ProgressStyleModel",
      "_view_count": null,
      "_view_module": "@jupyter-widgets/base",
      "_view_module_version": "1.2.0",
      "_view_name": "StyleView",
      "bar_color": null,
      "description_width": ""
     }
    },
    "96c9940a1917438dae17387c60001ff0": {
     "model_module": "@jupyter-widgets/base",
     "model_module_version": "1.2.0",
     "model_name": "LayoutModel",
     "state": {
      "_model_module": "@jupyter-widgets/base",
      "_model_module_version": "1.2.0",
      "_model_name": "LayoutModel",
      "_view_count": null,
      "_view_module": "@jupyter-widgets/base",
      "_view_module_version": "1.2.0",
      "_view_name": "LayoutView",
      "align_content": null,
      "align_items": null,
      "align_self": null,
      "border": null,
      "bottom": null,
      "display": null,
      "flex": null,
      "flex_flow": null,
      "grid_area": null,
      "grid_auto_columns": null,
      "grid_auto_flow": null,
      "grid_auto_rows": null,
      "grid_column": null,
      "grid_gap": null,
      "grid_row": null,
      "grid_template_areas": null,
      "grid_template_columns": null,
      "grid_template_rows": null,
      "height": null,
      "justify_content": null,
      "justify_items": null,
      "left": null,
      "margin": null,
      "max_height": null,
      "max_width": null,
      "min_height": null,
      "min_width": null,
      "object_fit": null,
      "object_position": null,
      "order": null,
      "overflow": null,
      "overflow_x": null,
      "overflow_y": null,
      "padding": null,
      "right": null,
      "top": null,
      "visibility": null,
      "width": null
     }
    },
    "a1b2b2c5f0cd456fb3dafa2eef6d8b85": {
     "model_module": "@jupyter-widgets/base",
     "model_module_version": "1.2.0",
     "model_name": "LayoutModel",
     "state": {
      "_model_module": "@jupyter-widgets/base",
      "_model_module_version": "1.2.0",
      "_model_name": "LayoutModel",
      "_view_count": null,
      "_view_module": "@jupyter-widgets/base",
      "_view_module_version": "1.2.0",
      "_view_name": "LayoutView",
      "align_content": null,
      "align_items": null,
      "align_self": null,
      "border": null,
      "bottom": null,
      "display": null,
      "flex": null,
      "flex_flow": null,
      "grid_area": null,
      "grid_auto_columns": null,
      "grid_auto_flow": null,
      "grid_auto_rows": null,
      "grid_column": null,
      "grid_gap": null,
      "grid_row": null,
      "grid_template_areas": null,
      "grid_template_columns": null,
      "grid_template_rows": null,
      "height": null,
      "justify_content": null,
      "justify_items": null,
      "left": null,
      "margin": null,
      "max_height": null,
      "max_width": null,
      "min_height": null,
      "min_width": null,
      "object_fit": null,
      "object_position": null,
      "order": null,
      "overflow": null,
      "overflow_x": null,
      "overflow_y": null,
      "padding": null,
      "right": null,
      "top": null,
      "visibility": null,
      "width": null
     }
    },
    "ac7af2250c1d417095b485c303a7c2fc": {
     "model_module": "@jupyter-widgets/base",
     "model_module_version": "1.2.0",
     "model_name": "LayoutModel",
     "state": {
      "_model_module": "@jupyter-widgets/base",
      "_model_module_version": "1.2.0",
      "_model_name": "LayoutModel",
      "_view_count": null,
      "_view_module": "@jupyter-widgets/base",
      "_view_module_version": "1.2.0",
      "_view_name": "LayoutView",
      "align_content": null,
      "align_items": null,
      "align_self": null,
      "border": null,
      "bottom": null,
      "display": null,
      "flex": null,
      "flex_flow": null,
      "grid_area": null,
      "grid_auto_columns": null,
      "grid_auto_flow": null,
      "grid_auto_rows": null,
      "grid_column": null,
      "grid_gap": null,
      "grid_row": null,
      "grid_template_areas": null,
      "grid_template_columns": null,
      "grid_template_rows": null,
      "height": null,
      "justify_content": null,
      "justify_items": null,
      "left": null,
      "margin": null,
      "max_height": null,
      "max_width": null,
      "min_height": null,
      "min_width": null,
      "object_fit": null,
      "object_position": null,
      "order": null,
      "overflow": null,
      "overflow_x": null,
      "overflow_y": null,
      "padding": null,
      "right": null,
      "top": null,
      "visibility": null,
      "width": null
     }
    },
    "ae31c4e15aba4a36996316eb6189a846": {
     "model_module": "@jupyter-widgets/controls",
     "model_module_version": "1.5.0",
     "model_name": "DescriptionStyleModel",
     "state": {
      "_model_module": "@jupyter-widgets/controls",
      "_model_module_version": "1.5.0",
      "_model_name": "DescriptionStyleModel",
      "_view_count": null,
      "_view_module": "@jupyter-widgets/base",
      "_view_module_version": "1.2.0",
      "_view_name": "StyleView",
      "description_width": ""
     }
    },
    "b0133c23313d49ee8889525628e1b257": {
     "model_module": "@jupyter-widgets/controls",
     "model_module_version": "1.5.0",
     "model_name": "HBoxModel",
     "state": {
      "_dom_classes": [],
      "_model_module": "@jupyter-widgets/controls",
      "_model_module_version": "1.5.0",
      "_model_name": "HBoxModel",
      "_view_count": null,
      "_view_module": "@jupyter-widgets/controls",
      "_view_module_version": "1.5.0",
      "_view_name": "HBoxView",
      "box_style": "",
      "children": [
       "IPY_MODEL_ffa1cc6610004dd3bf39f7de38d32b96",
       "IPY_MODEL_2af0135ce3434a9fab62bf6c6e1af9f7",
       "IPY_MODEL_eb51490b61c04a4db144b0dd38098f4e"
      ],
      "layout": "IPY_MODEL_8c1c35e13a8d4aea96ad8e845ce5e1e4"
     }
    },
    "c0b386ce2ea54a0b9fe2f6288052daf0": {
     "model_module": "@jupyter-widgets/controls",
     "model_module_version": "1.5.0",
     "model_name": "DescriptionStyleModel",
     "state": {
      "_model_module": "@jupyter-widgets/controls",
      "_model_module_version": "1.5.0",
      "_model_name": "DescriptionStyleModel",
      "_view_count": null,
      "_view_module": "@jupyter-widgets/base",
      "_view_module_version": "1.2.0",
      "_view_name": "StyleView",
      "description_width": ""
     }
    },
    "c2f91ed1e5d048c6b62f5ee523e7de38": {
     "model_module": "@jupyter-widgets/base",
     "model_module_version": "1.2.0",
     "model_name": "LayoutModel",
     "state": {
      "_model_module": "@jupyter-widgets/base",
      "_model_module_version": "1.2.0",
      "_model_name": "LayoutModel",
      "_view_count": null,
      "_view_module": "@jupyter-widgets/base",
      "_view_module_version": "1.2.0",
      "_view_name": "LayoutView",
      "align_content": null,
      "align_items": null,
      "align_self": null,
      "border": null,
      "bottom": null,
      "display": null,
      "flex": null,
      "flex_flow": null,
      "grid_area": null,
      "grid_auto_columns": null,
      "grid_auto_flow": null,
      "grid_auto_rows": null,
      "grid_column": null,
      "grid_gap": null,
      "grid_row": null,
      "grid_template_areas": null,
      "grid_template_columns": null,
      "grid_template_rows": null,
      "height": null,
      "justify_content": null,
      "justify_items": null,
      "left": null,
      "margin": null,
      "max_height": null,
      "max_width": null,
      "min_height": null,
      "min_width": null,
      "object_fit": null,
      "object_position": null,
      "order": null,
      "overflow": null,
      "overflow_x": null,
      "overflow_y": null,
      "padding": null,
      "right": null,
      "top": null,
      "visibility": null,
      "width": null
     }
    },
    "c5e32667641b4781b4a7d6dc073d46a9": {
     "model_module": "@jupyter-widgets/base",
     "model_module_version": "1.2.0",
     "model_name": "LayoutModel",
     "state": {
      "_model_module": "@jupyter-widgets/base",
      "_model_module_version": "1.2.0",
      "_model_name": "LayoutModel",
      "_view_count": null,
      "_view_module": "@jupyter-widgets/base",
      "_view_module_version": "1.2.0",
      "_view_name": "LayoutView",
      "align_content": null,
      "align_items": null,
      "align_self": null,
      "border": null,
      "bottom": null,
      "display": null,
      "flex": null,
      "flex_flow": null,
      "grid_area": null,
      "grid_auto_columns": null,
      "grid_auto_flow": null,
      "grid_auto_rows": null,
      "grid_column": null,
      "grid_gap": null,
      "grid_row": null,
      "grid_template_areas": null,
      "grid_template_columns": null,
      "grid_template_rows": null,
      "height": null,
      "justify_content": null,
      "justify_items": null,
      "left": null,
      "margin": null,
      "max_height": null,
      "max_width": null,
      "min_height": null,
      "min_width": null,
      "object_fit": null,
      "object_position": null,
      "order": null,
      "overflow": null,
      "overflow_x": null,
      "overflow_y": null,
      "padding": null,
      "right": null,
      "top": null,
      "visibility": null,
      "width": null
     }
    },
    "cd44a3d15d514fa0932e160cc475a9c7": {
     "model_module": "@jupyter-widgets/controls",
     "model_module_version": "1.5.0",
     "model_name": "FloatProgressModel",
     "state": {
      "_dom_classes": [],
      "_model_module": "@jupyter-widgets/controls",
      "_model_module_version": "1.5.0",
      "_model_name": "FloatProgressModel",
      "_view_count": null,
      "_view_module": "@jupyter-widgets/controls",
      "_view_module_version": "1.5.0",
      "_view_name": "ProgressView",
      "bar_style": "success",
      "description": "",
      "description_tooltip": null,
      "layout": "IPY_MODEL_df055d85c60744f6871b9643c34b16a5",
      "max": 4542,
      "min": 0,
      "orientation": "horizontal",
      "style": "IPY_MODEL_969ca0d7077641d5ac0dc75593d2f3cd",
      "value": 4542
     }
    },
    "ceb9b08030ee40f9864f48cd0d03b3b3": {
     "model_module": "@jupyter-widgets/base",
     "model_module_version": "1.2.0",
     "model_name": "LayoutModel",
     "state": {
      "_model_module": "@jupyter-widgets/base",
      "_model_module_version": "1.2.0",
      "_model_name": "LayoutModel",
      "_view_count": null,
      "_view_module": "@jupyter-widgets/base",
      "_view_module_version": "1.2.0",
      "_view_name": "LayoutView",
      "align_content": null,
      "align_items": null,
      "align_self": null,
      "border": null,
      "bottom": null,
      "display": null,
      "flex": null,
      "flex_flow": null,
      "grid_area": null,
      "grid_auto_columns": null,
      "grid_auto_flow": null,
      "grid_auto_rows": null,
      "grid_column": null,
      "grid_gap": null,
      "grid_row": null,
      "grid_template_areas": null,
      "grid_template_columns": null,
      "grid_template_rows": null,
      "height": null,
      "justify_content": null,
      "justify_items": null,
      "left": null,
      "margin": null,
      "max_height": null,
      "max_width": null,
      "min_height": null,
      "min_width": null,
      "object_fit": null,
      "object_position": null,
      "order": null,
      "overflow": null,
      "overflow_x": null,
      "overflow_y": null,
      "padding": null,
      "right": null,
      "top": null,
      "visibility": null,
      "width": null
     }
    },
    "d38917a039e04073a8fe0f7dae068ddc": {
     "model_module": "@jupyter-widgets/controls",
     "model_module_version": "1.5.0",
     "model_name": "ProgressStyleModel",
     "state": {
      "_model_module": "@jupyter-widgets/controls",
      "_model_module_version": "1.5.0",
      "_model_name": "ProgressStyleModel",
      "_view_count": null,
      "_view_module": "@jupyter-widgets/base",
      "_view_module_version": "1.2.0",
      "_view_name": "StyleView",
      "bar_color": null,
      "description_width": ""
     }
    },
    "d64b96a0c3174c64bfdedc7e757d12f1": {
     "model_module": "@jupyter-widgets/controls",
     "model_module_version": "1.5.0",
     "model_name": "ProgressStyleModel",
     "state": {
      "_model_module": "@jupyter-widgets/controls",
      "_model_module_version": "1.5.0",
      "_model_name": "ProgressStyleModel",
      "_view_count": null,
      "_view_module": "@jupyter-widgets/base",
      "_view_module_version": "1.2.0",
      "_view_name": "StyleView",
      "bar_color": null,
      "description_width": ""
     }
    },
    "da543b254b4a4a96ac92be4a410cdb3a": {
     "model_module": "@jupyter-widgets/controls",
     "model_module_version": "1.5.0",
     "model_name": "HBoxModel",
     "state": {
      "_dom_classes": [],
      "_model_module": "@jupyter-widgets/controls",
      "_model_module_version": "1.5.0",
      "_model_name": "HBoxModel",
      "_view_count": null,
      "_view_module": "@jupyter-widgets/controls",
      "_view_module_version": "1.5.0",
      "_view_name": "HBoxView",
      "box_style": "",
      "children": [
       "IPY_MODEL_90d4e152390344cab6fdeec12e198b5a",
       "IPY_MODEL_1476c80846f045c39e745f1d0a153a17",
       "IPY_MODEL_4c5ceb0b8c964968bdb91a6ee705726f"
      ],
      "layout": "IPY_MODEL_fb726fe658964244863a9f7b33de6d04"
     }
    },
    "db701d8dc7f94e3186300cb41254e826": {
     "model_module": "@jupyter-widgets/base",
     "model_module_version": "1.2.0",
     "model_name": "LayoutModel",
     "state": {
      "_model_module": "@jupyter-widgets/base",
      "_model_module_version": "1.2.0",
      "_model_name": "LayoutModel",
      "_view_count": null,
      "_view_module": "@jupyter-widgets/base",
      "_view_module_version": "1.2.0",
      "_view_name": "LayoutView",
      "align_content": null,
      "align_items": null,
      "align_self": null,
      "border": null,
      "bottom": null,
      "display": null,
      "flex": null,
      "flex_flow": null,
      "grid_area": null,
      "grid_auto_columns": null,
      "grid_auto_flow": null,
      "grid_auto_rows": null,
      "grid_column": null,
      "grid_gap": null,
      "grid_row": null,
      "grid_template_areas": null,
      "grid_template_columns": null,
      "grid_template_rows": null,
      "height": null,
      "justify_content": null,
      "justify_items": null,
      "left": null,
      "margin": null,
      "max_height": null,
      "max_width": null,
      "min_height": null,
      "min_width": null,
      "object_fit": null,
      "object_position": null,
      "order": null,
      "overflow": null,
      "overflow_x": null,
      "overflow_y": null,
      "padding": null,
      "right": null,
      "top": null,
      "visibility": null,
      "width": null
     }
    },
    "df055d85c60744f6871b9643c34b16a5": {
     "model_module": "@jupyter-widgets/base",
     "model_module_version": "1.2.0",
     "model_name": "LayoutModel",
     "state": {
      "_model_module": "@jupyter-widgets/base",
      "_model_module_version": "1.2.0",
      "_model_name": "LayoutModel",
      "_view_count": null,
      "_view_module": "@jupyter-widgets/base",
      "_view_module_version": "1.2.0",
      "_view_name": "LayoutView",
      "align_content": null,
      "align_items": null,
      "align_self": null,
      "border": null,
      "bottom": null,
      "display": null,
      "flex": null,
      "flex_flow": null,
      "grid_area": null,
      "grid_auto_columns": null,
      "grid_auto_flow": null,
      "grid_auto_rows": null,
      "grid_column": null,
      "grid_gap": null,
      "grid_row": null,
      "grid_template_areas": null,
      "grid_template_columns": null,
      "grid_template_rows": null,
      "height": null,
      "justify_content": null,
      "justify_items": null,
      "left": null,
      "margin": null,
      "max_height": null,
      "max_width": null,
      "min_height": null,
      "min_width": null,
      "object_fit": null,
      "object_position": null,
      "order": null,
      "overflow": null,
      "overflow_x": null,
      "overflow_y": null,
      "padding": null,
      "right": null,
      "top": null,
      "visibility": null,
      "width": null
     }
    },
    "e9367ed3012341529beb8170b00c1a0a": {
     "model_module": "@jupyter-widgets/base",
     "model_module_version": "1.2.0",
     "model_name": "LayoutModel",
     "state": {
      "_model_module": "@jupyter-widgets/base",
      "_model_module_version": "1.2.0",
      "_model_name": "LayoutModel",
      "_view_count": null,
      "_view_module": "@jupyter-widgets/base",
      "_view_module_version": "1.2.0",
      "_view_name": "LayoutView",
      "align_content": null,
      "align_items": null,
      "align_self": null,
      "border": null,
      "bottom": null,
      "display": null,
      "flex": null,
      "flex_flow": null,
      "grid_area": null,
      "grid_auto_columns": null,
      "grid_auto_flow": null,
      "grid_auto_rows": null,
      "grid_column": null,
      "grid_gap": null,
      "grid_row": null,
      "grid_template_areas": null,
      "grid_template_columns": null,
      "grid_template_rows": null,
      "height": null,
      "justify_content": null,
      "justify_items": null,
      "left": null,
      "margin": null,
      "max_height": null,
      "max_width": null,
      "min_height": null,
      "min_width": null,
      "object_fit": null,
      "object_position": null,
      "order": null,
      "overflow": null,
      "overflow_x": null,
      "overflow_y": null,
      "padding": null,
      "right": null,
      "top": null,
      "visibility": null,
      "width": null
     }
    },
    "eb51490b61c04a4db144b0dd38098f4e": {
     "model_module": "@jupyter-widgets/controls",
     "model_module_version": "1.5.0",
     "model_name": "HTMLModel",
     "state": {
      "_dom_classes": [],
      "_model_module": "@jupyter-widgets/controls",
      "_model_module_version": "1.5.0",
      "_model_name": "HTMLModel",
      "_view_count": null,
      "_view_module": "@jupyter-widgets/controls",
      "_view_module_version": "1.5.0",
      "_view_name": "HTMLView",
      "description": "",
      "description_tooltip": null,
      "layout": "IPY_MODEL_ac7af2250c1d417095b485c303a7c2fc",
      "placeholder": "​",
      "style": "IPY_MODEL_f5c51834597f48baad3a11221de53891",
      "value": " 9912422/9912422 [00:00&lt;00:00, 133474519.87it/s]"
     }
    },
    "efd9d8ea65114fb1869c243944a8c7a0": {
     "model_module": "@jupyter-widgets/controls",
     "model_module_version": "1.5.0",
     "model_name": "DescriptionStyleModel",
     "state": {
      "_model_module": "@jupyter-widgets/controls",
      "_model_module_version": "1.5.0",
      "_model_name": "DescriptionStyleModel",
      "_view_count": null,
      "_view_module": "@jupyter-widgets/base",
      "_view_module_version": "1.2.0",
      "_view_name": "StyleView",
      "description_width": ""
     }
    },
    "f5c51834597f48baad3a11221de53891": {
     "model_module": "@jupyter-widgets/controls",
     "model_module_version": "1.5.0",
     "model_name": "DescriptionStyleModel",
     "state": {
      "_model_module": "@jupyter-widgets/controls",
      "_model_module_version": "1.5.0",
      "_model_name": "DescriptionStyleModel",
      "_view_count": null,
      "_view_module": "@jupyter-widgets/base",
      "_view_module_version": "1.2.0",
      "_view_name": "StyleView",
      "description_width": ""
     }
    },
    "f7c3e17f9dae453596ace5ef18cf41aa": {
     "model_module": "@jupyter-widgets/base",
     "model_module_version": "1.2.0",
     "model_name": "LayoutModel",
     "state": {
      "_model_module": "@jupyter-widgets/base",
      "_model_module_version": "1.2.0",
      "_model_name": "LayoutModel",
      "_view_count": null,
      "_view_module": "@jupyter-widgets/base",
      "_view_module_version": "1.2.0",
      "_view_name": "LayoutView",
      "align_content": null,
      "align_items": null,
      "align_self": null,
      "border": null,
      "bottom": null,
      "display": null,
      "flex": null,
      "flex_flow": null,
      "grid_area": null,
      "grid_auto_columns": null,
      "grid_auto_flow": null,
      "grid_auto_rows": null,
      "grid_column": null,
      "grid_gap": null,
      "grid_row": null,
      "grid_template_areas": null,
      "grid_template_columns": null,
      "grid_template_rows": null,
      "height": null,
      "justify_content": null,
      "justify_items": null,
      "left": null,
      "margin": null,
      "max_height": null,
      "max_width": null,
      "min_height": null,
      "min_width": null,
      "object_fit": null,
      "object_position": null,
      "order": null,
      "overflow": null,
      "overflow_x": null,
      "overflow_y": null,
      "padding": null,
      "right": null,
      "top": null,
      "visibility": null,
      "width": null
     }
    },
    "fb726fe658964244863a9f7b33de6d04": {
     "model_module": "@jupyter-widgets/base",
     "model_module_version": "1.2.0",
     "model_name": "LayoutModel",
     "state": {
      "_model_module": "@jupyter-widgets/base",
      "_model_module_version": "1.2.0",
      "_model_name": "LayoutModel",
      "_view_count": null,
      "_view_module": "@jupyter-widgets/base",
      "_view_module_version": "1.2.0",
      "_view_name": "LayoutView",
      "align_content": null,
      "align_items": null,
      "align_self": null,
      "border": null,
      "bottom": null,
      "display": null,
      "flex": null,
      "flex_flow": null,
      "grid_area": null,
      "grid_auto_columns": null,
      "grid_auto_flow": null,
      "grid_auto_rows": null,
      "grid_column": null,
      "grid_gap": null,
      "grid_row": null,
      "grid_template_areas": null,
      "grid_template_columns": null,
      "grid_template_rows": null,
      "height": null,
      "justify_content": null,
      "justify_items": null,
      "left": null,
      "margin": null,
      "max_height": null,
      "max_width": null,
      "min_height": null,
      "min_width": null,
      "object_fit": null,
      "object_position": null,
      "order": null,
      "overflow": null,
      "overflow_x": null,
      "overflow_y": null,
      "padding": null,
      "right": null,
      "top": null,
      "visibility": null,
      "width": null
     }
    },
    "ffa1cc6610004dd3bf39f7de38d32b96": {
     "model_module": "@jupyter-widgets/controls",
     "model_module_version": "1.5.0",
     "model_name": "HTMLModel",
     "state": {
      "_dom_classes": [],
      "_model_module": "@jupyter-widgets/controls",
      "_model_module_version": "1.5.0",
      "_model_name": "HTMLModel",
      "_view_count": null,
      "_view_module": "@jupyter-widgets/controls",
      "_view_module_version": "1.5.0",
      "_view_name": "HTMLView",
      "description": "",
      "description_tooltip": null,
      "layout": "IPY_MODEL_c5e32667641b4781b4a7d6dc073d46a9",
      "placeholder": "​",
      "style": "IPY_MODEL_0eec3287dc814f5ab3b9a91edf835540",
      "value": "100%"
     }
    }
   }
  }
 },
 "nbformat": 4,
 "nbformat_minor": 1
}
