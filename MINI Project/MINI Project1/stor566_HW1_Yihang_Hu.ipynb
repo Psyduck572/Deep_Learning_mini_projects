{
 "cells": [
  {
   "cell_type": "markdown",
   "metadata": {
    "id": "0D6giqCEScfp"
   },
   "source": [
    "# STOR 566, Homework 1\n",
    "### Instructor: Yao Li\n",
    "### Keywords: optimization\n",
    "### Due date: Sep 04, 11:55pm\n",
    "### **Submission Instruction**\n",
    "\n",
    "- Please download this script and use it to answer the questions in the homework. \n",
    "- For submission, please include your code, code output and answers in the script and submit the ipynb file on sakai.\n",
    "- Please don't modify existing cells. But you can add cells between the exercise statements.\n",
    "- To make markdown, please switch the cell type to markdown (from code) - you can hit 'm' when you are in command mode - and use the markdown language. For a brief tutorial see: https://daringfireball.net/projects/markdown/syntax"
   ]
  },
  {
   "cell_type": "markdown",
   "metadata": {
    "id": "rB6khqRukUzQ"
   },
   "source": [
    "## Problem 1 (10 points)\n",
    "\n",
    "Prove whether the following functions are convex or not.\n",
    "- (a) (5 points) $f(x_1,x_2)=(x_1x_2-1)^2$, where $x_1, x_2\\in \\mathbb{R}$.\n",
    "- (b) (5 points) $f(\\mathbf{w}_1, \\mathbf{w}_2)=\\|\\mathbf{w}_1-\\mathbf{w}_2\\|^2_2$,  where $\\mathbf{w}_1, \\mathbf{w}_2\\in \\mathbb{R}^2$.\n"
   ]
  },
  {
   "cell_type": "markdown",
   "metadata": {
    "id": "L_VY0XmUkteW"
   },
   "source": [
    "Solution of Problem 1 (a): Since we know that for a twice differentiable function $f$, it is convex iff its Hessian $H$ is positive semi-definite. For $f(x_1,x_2)$, which is a two-variable function, $H$ can be calculated by：$H(f) = \\begin{bmatrix}\n",
    "\\dfrac{\\partial^2 f}{\\partial x_1^2}&\\dfrac{\\partial^2 f}{\\partial x_1 \\partial x_2}\\\\\n",
    "\\dfrac{\\partial^2 f}{\\partial x_2 \\partial x_1}&\\dfrac{\\partial^2 f}{\\partial x_2^2}\\end{bmatrix}$; hence, we got $H(f) = \\begin{bmatrix}\n",
    "2x_2^2&4x_1x_2-2\\\\\n",
    "4x_1x_2-2&2x_1^2\\end{bmatrix}$. Besides, we know that $x = \\begin{bmatrix}\n",
    "x_1\\\\x_2\\end{bmatrix}$. Therefore, by applying semi-definite, which is $x^THx$, we got $x^THx = \\begin{bmatrix}\n",
    "x_1&x_2\\end{bmatrix}\\begin{bmatrix}\n",
    "2x_2^2&4x_1x_2-2\\\\\n",
    "4x_1x_2-2&2x_1^2\\end{bmatrix}\\begin{bmatrix}\n",
    "x_1\\\\x_2\\end{bmatrix} = 12x_1^2x_2^2-4x_1x_2 = 4x_1x_2(3x_1x_2-1)$. Thus we can see that since $x_1, x_2\\in \\mathbb{R}$, when $x_1x_2\\in(0,\\frac{1}{3})$, the value of semi-definite will be negative. Hence, there is no guarantee that $x^THx \\geqslant 0$. Thus, the function $f(x_1,x_2)=(x_1x_2-1)^2$ is not convex. "
   ]
  },
  {
   "cell_type": "markdown",
   "metadata": {
    "id": "6Tigk4RBkyFb"
   },
   "source": [
    "Answer: The function $f(x_1,x_2)=(x_1x_2-1)^2$ is not convex. "
   ]
  },
  {
   "cell_type": "markdown",
   "metadata": {
    "id": "sIrHUR8zk1Tp"
   },
   "source": [
    "Solution of Problem 1 (b): Since we know that for a twice differentiable function $f$, it is convex iff its Hessian $H$ is positive semi-definite. For $f(w_1,w_2)=\\|w_1-w_2\\|^2_2=(\\sqrt{\\displaystyle\\sum_{i=1}^{2}(w_{1i}-w_{2i})^2})^2=(w_{11}-w_{21})^2 + (w_{12}-w_{22})^2$. For $f_1=(w_{11}-w_{21})^2$, $H$ can be calculated by：$H(f_1) = \\begin{bmatrix}\n",
    "\\dfrac{\\partial^2 f_1}{\\partial w_{11}^2}&\\dfrac{\\partial^2 f_1}{\\partial w_{11} \\partial w_{21}}\\\\\n",
    "\\dfrac{\\partial^2 f_1}{\\partial w_{21} \\partial w_{11}}&\\dfrac{\\partial^2 f_1}{\\partial w_{21}^2}\\end{bmatrix}$; hence, we got $H(f_1) = \\begin{bmatrix}\n",
    "2&-2\\\\\n",
    "-2&2\\end{bmatrix}$. Besides, we know that $w = \\begin{bmatrix}\n",
    "w_{11}\\\\w_{21}\\end{bmatrix}$. Therefore, by applying semi-definite, which is $w^THw$, we got $w^THw = \\begin{bmatrix}\n",
    "w_{11}&w_{21}\\end{bmatrix}\\begin{bmatrix}\n",
    "2&-2\\\\\n",
    "-2&2\\end{bmatrix}\\begin{bmatrix}\n",
    "w_{11}\\\\w_{21}\\end{bmatrix} = 2(w_{11}-w_{21})^2$. Thus we can see that since $w_{11}, w_{21}\\in \\mathbb{R}$, the value of semi-definite will always be nonnegative. Hence, $x^THx \\geqslant 0$. Thus, the function $f_1 = (w_{11}-w_{21})^2$ is convex. Without loss of generality, $f_2 = (w_{12}-w_{22})^2$ is also convex. Thus, the function $f(w_1,w_2)=\\|w_1-w_2\\|^2_2$ is convex. "
   ]
  },
  {
   "cell_type": "markdown",
   "metadata": {
    "id": "I0rrCHF0k32r"
   },
   "source": [
    "Answer: The function $f(w_1,w_2)=\\|w_1-w_2\\|^2_2$ is convex. "
   ]
  },
  {
   "cell_type": "markdown",
   "metadata": {
    "id": "HRihLtPqk6rB"
   },
   "source": [
    "## Problem 2 (10 points)\n",
    "\n",
    "Identify stationary points for $f(x) = 2x_1 +12x_2 +x^2_1 -3x^2_2$? Are they local minimum/maximum; global minimum/maximum or saddle points? Why?"
   ]
  },
  {
   "cell_type": "markdown",
   "metadata": {
    "id": "PG1_3Bemk79P"
   },
   "source": [
    "Answer: First we find the derivative of $f(x) = 2x_1 +12x_2 +x^2_1 -3x^2_2$ related to x-1 and x_2. Therefore, $\\dfrac{\\partial f}{\\partial x_1}=2x_1+2$ and $\\dfrac{\\partial f}{\\partial x_2}=-6x_2+12$. Hence, when $\\dfrac{\\partial f}{\\partial x_1}=\\dfrac{\\partial f}{\\partial x_2}=0$, $(x_1,x_2)=(-1,2)$, which is the only stationary point. Then, by using Hessian matrix, $H(f) = \\begin{bmatrix}\n",
    "2&0\\\\\n",
    "0&-6\\end{bmatrix}$. Besides, we know that $x = \\begin{bmatrix}\n",
    "x_1\\\\x_2\\end{bmatrix}$. Therefore, by applying semi-definite, which is $x^THx$, we got $x^THx = \\begin{bmatrix}\n",
    "x_1&x_2\\end{bmatrix}\\begin{bmatrix}\n",
    "2&0\\\\\n",
    "0&-6\\end{bmatrix}\\begin{bmatrix}\n",
    "x_1\\\\x_2\\end{bmatrix} = 2x_1^2-6x_2^2$. Since we cannot tell if $x^THx$ is positive or negative, $H$ is indefinite at the only stationary point. Hence, $(x_1,x_2)=(-1,2)$ is a saddle point. "
   ]
  },
  {
   "cell_type": "markdown",
   "metadata": {
    "id": "kegz8m6glB3d"
   },
   "source": [
    "## Problem 3 (80 points)\n",
    "\n",
    "Given training data $\\{\\mathbf{x}_i, y_i\\}^n_{i=1}$, each $x_i\\in \\mathbb{R}^d$ and $y_i \\in \\{+1, -1\\}$, we try to solve the following logistic regression problem by gradient descent:\n",
    "\\begin{align}\n",
    "\\min_{\\mathbf{w}\\in R^d}\\left\\{\\frac{1}{n}\\sum_{i=1}^n\\log(1+e^{-y_i\\mathbf{w}^T\\mathbf{x}_i})+\\frac{1}{2}\\|\\mathbf{w}\\|^2_2  \\right\\} := f(\\mathbf{w}).\n",
    "\\end{align}\n",
    "Test the algorithm using the 'heart scale' dataset with $n = 270$ and $d = 13$: the matrix $\\mathbf{X}$ is stored in the file 'X$\\_$heart', and the vector $\\mathbf{y}$ is stored in the file 'y$\\_$heart'. ('X$\\_$heart' contains $n$ lines, each line stores a vector $\\mathbf{x}_i$ with $d$ real numbers. 'y$\\_$heart' contains the $\\mathbf{y}$ vector.)"
   ]
  },
  {
   "cell_type": "code",
   "execution_count": 1,
   "metadata": {
    "id": "c1dXtcBGqZmv"
   },
   "outputs": [],
   "source": [
    "import numpy as np\n",
    "import matplotlib.pyplot as plt\n",
    "import pandas as pd\n",
    "import math\n",
    "from fractions import Fraction as frac\n",
    "import sys\n",
    "from numpy import linalg as LA"
   ]
  },
  {
   "cell_type": "code",
   "execution_count": 2,
   "metadata": {
    "id": "sJStVuRpqkzS"
   },
   "outputs": [],
   "source": [
    "filename1 = 'X_heart'\n",
    "xdata = np.loadtxt(filename1, delimiter=' ', skiprows=0, dtype=float)\n",
    "\n",
    "filename2 = 'y_heart'\n",
    "ydata = np.loadtxt(filename2, delimiter=' ', skiprows=0, dtype=float)"
   ]
  },
  {
   "cell_type": "markdown",
   "metadata": {
    "id": "vZWcD3ufnEcJ"
   },
   "source": [
    "### (a) (5 points) Compute the gradient of $f(\\mathbf{w})$ w.r.t. $\\mathbf{w}$."
   ]
  },
  {
   "cell_type": "markdown",
   "metadata": {
    "id": "_KmlQojYnL1a"
   },
   "source": [
    "Answer: $\\nabla f(w) = w-\\dfrac{1}{n}\\displaystyle\\sum_{i=1}^{n}\\dfrac{y_i x_i}{1+e^{y_i w^{T} x_1}}$"
   ]
  },
  {
   "cell_type": "markdown",
   "metadata": {
    "id": "KYWHWEGinOyC"
   },
   "source": [
    "### (b) (30 points) Implement the gradient descent algorithm with a fixed step size $\\eta$. Find a small $\\eta_1$ such that the algorithm converges. Increase the step size to $\\eta_2$ so the algorithm cannot converge. Run 50 iterations and plot the iteration versus $\\log(f(\\mathbf{x}^k) -f(\\mathbf{x}^*))$ plot for $\\eta_1$ and $\\eta_2$. In practice it is impossible to get the exact optimal solution $\\mathbf{x}^*$, so use the minimum value you computed as $f(\\mathbf{x}^*)$ when you plot the figure. Report the $f(\\mathbf{x}^*)$ value you used for generating the plots."
   ]
  },
  {
   "cell_type": "code",
   "execution_count": 3,
   "metadata": {
    "id": "L8pJfqcHm89-"
   },
   "outputs": [],
   "source": [
    "def df(w,n,x,y):\n",
    "  temp = (np.zeros(x.shape[1]))\n",
    "  for i in range(n):\n",
    "    temp += ((y[i]*x[i])/(math.exp(np.matmul((y[i] * w.T),x[i]))+1)) \n",
    "  gradient = w-(1/n) * temp\n",
    "  return gradient"
   ]
  },
  {
   "cell_type": "code",
   "execution_count": 4,
   "metadata": {},
   "outputs": [],
   "source": [
    "def gradient_des(df,rate,precision,w,x,y):\n",
    "  n = y.shape[0]\n",
    "\n",
    "  while LA.norm(df(w,n,x,y)) > precision:\n",
    "      w -= rate*df(w,n,x,y)  \n",
    "  return w"
   ]
  },
  {
   "cell_type": "code",
   "execution_count": 5,
   "metadata": {},
   "outputs": [],
   "source": [
    "def loss(w,x,y):\n",
    "  n = y.shape[0]\n",
    "  temp = 0\n",
    "\n",
    "  for i in range(n):\n",
    "    temp += np.log(1 + math.exp(np.matmul((-y[i] * w.T),x[i]))) \n",
    "  temp = (1/n) * temp\n",
    "  \n",
    "  return temp + 1/2 * (LA.norm(w)) ** 2 "
   ]
  },
  {
   "cell_type": "code",
   "execution_count": 6,
   "metadata": {},
   "outputs": [
    {
     "name": "stdout",
     "output_type": "stream",
     "text": [
      "[ 0.02991615  0.08993924  0.09458207  0.02491948  0.01825987  0.00059445\n",
      "  0.06362227 -0.05930535  0.13886913  0.06782427  0.08062832  0.12084623\n",
      "  0.18046159]\n"
     ]
    }
   ],
   "source": [
    "w_int = np.zeros(13)\n",
    "w_star = gradient_des(df,0.5,0.00001,w_int,xdata,ydata)\n",
    "print(w_star)"
   ]
  },
  {
   "cell_type": "code",
   "execution_count": 7,
   "metadata": {},
   "outputs": [],
   "source": [
    "from matplotlib import pyplot\n",
    "x_axis = [x for x in range(50)]\n",
    "n1 = 0.2\n",
    "n2 = 2"
   ]
  },
  {
   "cell_type": "markdown",
   "metadata": {},
   "source": [
    "Plot of a small step size $\\eta_1$: $\\eta_1 = 0.2$"
   ]
  },
  {
   "cell_type": "code",
   "execution_count": 8,
   "metadata": {},
   "outputs": [
    {
     "data": {
      "image/png": "[encoded data removed]",
      "text/plain": [
       "<Figure size 432x288 with 1 Axes>"
      ]
     },
     "metadata": {
      "needs_background": "light"
     },
     "output_type": "display_data"
    }
   ],
   "source": [
    "y_axis_1 = []\n",
    "w_1 = np.ones(13)*50\n",
    "[x for x in range(5)]\n",
    "for j in range(50):\n",
    "  w_1 -=  n1 * df(w_1,270,xdata,ydata) \n",
    "  if (loss(w_1,xdata,ydata) - loss(w_star,xdata,ydata)) <= 0: \n",
    "    break\n",
    "  y_axis_1.append(np.log(loss(w_1,xdata,ydata) - loss(w_star,xdata,ydata)))\n",
    "x_axis_1 = [x for x in range(len(y_axis_1))]\n",
    "pyplot.plot(x_axis_1, y_axis_1)\n",
    "plt.xlabel(\"iteration\")\n",
    "plt.ylabel(\"log value\")\n",
    "pyplot.show()"
   ]
  },
  {
   "cell_type": "code",
   "execution_count": 9,
   "metadata": {},
   "outputs": [
    {
     "data": {
      "text/plain": [
       "0.6185106208394231"
      ]
     },
     "execution_count": 9,
     "metadata": {},
     "output_type": "execute_result"
    }
   ],
   "source": [
    "loss(w_1,xdata,ydata) "
   ]
  },
  {
   "cell_type": "markdown",
   "metadata": {},
   "source": [
    "Plot of a small step size $\\eta_2$: $\\eta_2 = 2$"
   ]
  },
  {
   "cell_type": "code",
   "execution_count": 10,
   "metadata": {},
   "outputs": [
    {
     "data": {
      "image/png": "[encoded data removed]",
      "text/plain": [
       "<Figure size 432x288 with 1 Axes>"
      ]
     },
     "metadata": {
      "needs_background": "light"
     },
     "output_type": "display_data"
    }
   ],
   "source": [
    "y_axis_2 = []\n",
    "w_0 = np.ones(13)*10\n",
    "w_2 = w_0\n",
    "for h in range(50):\n",
    "  w_2 -=  n2 * df(w_2,270,xdata,ydata) \n",
    "  if (loss(w_2,xdata,ydata) - loss(w_star,xdata,ydata)) <= 0: \n",
    "    break\n",
    "  y_axis_2.append(np.log(loss(w_2,xdata,ydata) - loss(w_star,xdata,ydata)))\n",
    "x_axis_2 = [x for x in range(len(y_axis_2))]\n",
    "pyplot.plot(x_axis_2, y_axis_2)\n",
    "plt.xlabel(\"iteration\")\n",
    "plt.ylabel(\"log value\")\n",
    "pyplot.show()"
   ]
  },
  {
   "cell_type": "code",
   "execution_count": 11,
   "metadata": {},
   "outputs": [
    {
     "data": {
      "text/plain": [
       "4712.47688004058"
      ]
     },
     "execution_count": 11,
     "metadata": {},
     "output_type": "execute_result"
    }
   ],
   "source": [
    "loss(w_2,xdata,ydata)"
   ]
  },
  {
   "cell_type": "markdown",
   "metadata": {
    "id": "iG6GtonCnuvU"
   },
   "source": [
    "The $f(\\mathbf{x}^*)$ value used is: 0.6185097461135388"
   ]
  },
  {
   "cell_type": "code",
   "execution_count": 12,
   "metadata": {},
   "outputs": [
    {
     "data": {
      "text/plain": [
       "0.6185097461135388"
      ]
     },
     "execution_count": 12,
     "metadata": {},
     "output_type": "execute_result"
    }
   ],
   "source": [
    "loss(w_star,xdata,ydata)"
   ]
  },
  {
   "cell_type": "markdown",
   "metadata": {
    "id": "2CSl47RKppHM"
   },
   "source": [
    "### (c) (5 points) Write down the pseudo code of gradient descent with backtracking line search ($\\sigma=0.01$)."
   ]
  },
  {
   "cell_type": "markdown",
   "metadata": {
    "id": "yfYLYqLgp4i5"
   },
   "source": [
    "Pseudo code: <br>\n",
    "1. Initialize the weights $\\textbf{w}_0$\n",
    "2. For $t = 1,2,...$ <br>\n",
    "&emsp; Compute the gradient: $\\textbf{d} = -\\nabla f(\\textbf{w})$<br>\n",
    "&emsp; For $\\alpha = \\alpha_0, \\alpha_0/2, \\alpha_0/4,...$<br>\n",
    "&emsp; &emsp; Break if $f(\\textbf{w}+\\alpha \\textbf{d}) \\leq f(\\textbf{w}) + 0.01\\alpha \\nabla f(\\textbf{w})^{T} \\textbf{d}$<br>\n",
    "&emsp; Update $\\textbf{w} = \\textbf{w} + \\alpha \\textbf{d}$<br>\n",
    "3. Return the final solution $\\textbf{w}$\n"
   ]
  },
  {
   "cell_type": "markdown",
   "metadata": {
    "id": "peboWtMBp62-"
   },
   "source": [
    "### (d) (20 points) Implement the gradient descent algorithm with backtracking line search ($\\sigma=0.01$). Plot the same iteration versus $\\log(f(\\mathbf{x}^k) -f(\\mathbf{x}^*))$ plot."
   ]
  },
  {
   "cell_type": "code",
   "execution_count": 13,
   "metadata": {
    "id": "ff-v_MOZqDGX"
   },
   "outputs": [],
   "source": [
    "def back_tracking(f,df,a,w,x,y):\n",
    "  sigma = 0.01\n",
    "  n = y.shape[0]\n",
    "  d = -df(w,n,x,y)\n",
    "  while (f(w + a * (d),x,y)) > (f(w,x,y) + sigma * a * (np.matmul(df(w,n,x,y).T,d))):\n",
    "    a /= 2\n",
    "  return a"
   ]
  },
  {
   "cell_type": "markdown",
   "metadata": {},
   "source": [
    "The Plot:"
   ]
  },
  {
   "cell_type": "code",
   "execution_count": 14,
   "metadata": {},
   "outputs": [
    {
     "data": {
      "image/png": "[encoded data removed]",
      "text/plain": [
       "<Figure size 432x288 with 1 Axes>"
      ]
     },
     "metadata": {
      "needs_background": "light"
     },
     "output_type": "display_data"
    }
   ],
   "source": [
    "w_3 = np.ones(13)*20\n",
    "y_axis_3 = []\n",
    "a_f = back_tracking(loss,df,4,w_3,xdata,ydata)\n",
    "for t in range(50):\n",
    "  w_3 -= a_f * df(w_3,270,xdata,ydata) \n",
    "  if (loss(w_3,xdata,ydata) - loss(w_star,xdata,ydata)) <= 0: \n",
    "    break\n",
    "  y_axis_3.append(np.log(loss(w_3,xdata,ydata) - loss(w_star,xdata,ydata)))\n",
    "x_axis_3 = [x for x in range(len(y_axis_3))]\n",
    "pyplot.plot(x_axis_3, y_axis_3)\n",
    "plt.xlabel(\"iteration\")\n",
    "plt.ylabel(\"log value\")\n",
    "pyplot.show()"
   ]
  },
  {
   "cell_type": "code",
   "execution_count": 15,
   "metadata": {},
   "outputs": [
    {
     "name": "stdout",
     "output_type": "stream",
     "text": [
      "1.0\n"
     ]
    }
   ],
   "source": [
    "print(a_f)"
   ]
  },
  {
   "cell_type": "code",
   "execution_count": 16,
   "metadata": {},
   "outputs": [
    {
     "data": {
      "text/plain": [
       "0.6185097461119102"
      ]
     },
     "execution_count": 16,
     "metadata": {},
     "output_type": "execute_result"
    }
   ],
   "source": [
    "loss(w_3,xdata,ydata)"
   ]
  },
  {
   "cell_type": "markdown",
   "metadata": {
    "id": "VbHsQrUyqNCR"
   },
   "source": [
    "### (e) (20 points) Test your implementation (gradient descent with backtracking line search) on a larger dataset 'epsilonsubset'. Plot the same iteration vs error plot."
   ]
  },
  {
   "cell_type": "code",
   "execution_count": 17,
   "metadata": {
    "id": "Uy7Tb8W8qUMr"
   },
   "outputs": [],
   "source": [
    "filename3 = 'x_epsilonsubset'\n",
    "xdata_new = np.loadtxt(filename3, delimiter=' ', skiprows=0, dtype=float)\n",
    "\n",
    "filename4 = 'y_epsilonsubset'\n",
    "ydata_new = np.loadtxt(filename4, delimiter=' ', skiprows=0, dtype=float)\n"
   ]
  },
  {
   "cell_type": "code",
   "execution_count": 18,
   "metadata": {},
   "outputs": [
    {
     "data": {
      "text/plain": [
       "0.6930376033383985"
      ]
     },
     "execution_count": 18,
     "metadata": {},
     "output_type": "execute_result"
    }
   ],
   "source": [
    "w_new = np.zeros(xdata_new.shape[1])\n",
    "\n",
    "w_new_star = gradient_des(df,0.5,0.00001,w_new,xdata_new,ydata_new)\n",
    "\n",
    "loss(w_new_star,xdata_new,ydata_new)\n"
   ]
  },
  {
   "cell_type": "code",
   "execution_count": 19,
   "metadata": {},
   "outputs": [
    {
     "name": "stdout",
     "output_type": "stream",
     "text": [
      "[ 3.22520233e-04 -4.39538747e-06  2.59086392e-04 ...  3.98399999e-05\n",
      "  2.75349694e-05  3.20422139e-05]\n"
     ]
    }
   ],
   "source": [
    "print(w_new_star)"
   ]
  },
  {
   "cell_type": "markdown",
   "metadata": {
    "id": "9X_eNkjVqUtJ"
   },
   "source": [
    "The Plot:"
   ]
  },
  {
   "cell_type": "code",
   "execution_count": 20,
   "metadata": {},
   "outputs": [
    {
     "data": {
      "image/png": "[encoded data removed]",
      "text/plain": [
       "<Figure size 432x288 with 1 Axes>"
      ]
     },
     "metadata": {
      "needs_background": "light"
     },
     "output_type": "display_data"
    }
   ],
   "source": [
    "w_one_new = np.ones(xdata_new.shape[1])*10\n",
    "af_2 = back_tracking(loss,df,15,w_new,xdata_new,ydata_new)\n",
    "y_axis_4 = []\n",
    "for t in range(50):\n",
    "  w_one_new -= af_2 * df(w_one_new,xdata_new.shape[0],xdata_new,ydata_new)\n",
    "  if (loss(w_one_new,xdata_new,ydata_new) - loss(w_new_star,xdata_new,ydata_new)) <= 0: \n",
    "    break\n",
    "  y_axis_4.append(np.log(loss(w_one_new,xdata_new,ydata_new) - loss(w_new_star,xdata_new,ydata_new)))\n",
    "x_axis_4 = [x for x in range(len(y_axis_4))]\n",
    "pyplot.plot(x_axis_4, y_axis_4)\n",
    "plt.xlabel(\"iteration\")\n",
    "plt.ylabel(\"log value\")\n",
    "pyplot.show()"
   ]
  },
  {
   "cell_type": "code",
   "execution_count": null,
   "metadata": {},
   "outputs": [],
   "source": []
  }
 ],
 "metadata": {
  "colab": {
   "collapsed_sections": [],
   "name": "stor566_HW1.ipynb",
   "provenance": []
  },
  "kernelspec": {
   "display_name": "Python 3 (ipykernel)",
   "language": "python",
   "name": "python3"
  },
  "language_info": {
   "codemirror_mode": {
    "name": "ipython",
    "version": 3
   },
   "file_extension": ".py",
   "mimetype": "text/x-python",
   "name": "python",
   "nbconvert_exporter": "python",
   "pygments_lexer": "ipython3",
   "version": "3.9.12"
  }
 },
 "nbformat": 4,
 "nbformat_minor": 1
}
