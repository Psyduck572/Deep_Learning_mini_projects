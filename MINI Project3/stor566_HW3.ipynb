{
 "cells": [
  {
   "cell_type": "markdown",
   "metadata": {
    "id": "IEI2-l1aTd76"
   },
   "source": [
    "# STOR 566, Homework 3\n",
    "### Instructor: Yao Li\n",
    "### Keywords: LSTM, SST2\n",
    "### Due date: Oct 02, 11:55pm\n",
    "### **Submission Instruction**\n",
    "\n",
    "- Please download this script and use it to answer the questions in the homework. \n",
    "- For submission, please include your code, code output and answers in the script and submit the ipynb file on sakai.\n",
    "- Please don't modify existing cells. But you can add cells between the exercise statements.\n",
    "- To make markdown, please switch the cell type to markdown (from code) - you can hit 'm' when you are in command mode - and use the markdown language. For a brief tutorial see: https://daringfireball.net/projects/markdown/syntax\n",
    "\n",
    "### **References:**\n",
    "\n",
    "- You can follow the setup instructions at [here](https://pytorch.org/get-started/locally/).\n",
    "- A useful tutorial on learning pytorch by examples at [here](https://pytorch.org/tutorials/beginner/pytorch_with_examples.html).\n",
    "- Check Pytorch optimization methods at [here](https://pytorch.org/docs/stable/optim.html).\n",
    "- Check Torchtext tutorial at [here](https://pytorch.org/text/stable/tutorials/sst2_classification_non_distributed.html).\n",
    "\n",
    "\n",
    "### **Evaluation Metrics of Classifiers:**\n",
    "\n",
    "- Average Test Loss (based on the test set): \n",
    "    \\begin{align}\n",
    "\t  \\frac{1}{B}\\sum_{b=1}^B {\\text loss}_b\n",
    "\t  \\end{align}\n",
    "    \n",
    "    - $B$: the total number of batches from the test set\n",
    "    - loss$_b$: the loss of $b$-th batch\n",
    "    - Note: loss$_b$=criteria(output, target), where criteria is the loss function you use.\n",
    "\n",
    "- Testing accuracy: \n",
    "\t\\begin{align}\n",
    "\t\\frac{1}{N}\\sum_{i=1}^N {\\bf 1}(\\hat{y}_i=y_i)\n",
    "\t\\end{align}\t\n",
    "    - $N$: the total number of samples in the testing set\n",
    "    - $y_i$: true label of sample $i$\n",
    "    - $\\hat{y}_i$: predicted label by the model"
   ]
  },
  {
   "cell_type": "markdown",
   "metadata": {
    "id": "0dfB-w80VX8M"
   },
   "source": [
    "## Problem 1 (100 points)\n",
    "\n",
    "In this problem you will practice implementing LSTM on SST2 data set to do sentiment analysis (binary classification of positive vs. negative).\n",
    "\n",
    "**Data.** You will use SST2 dataset. Pytorch/torchdata has provide a useful dataloader to automatically download and load the data into batches. In this homework, you need two class, positive and negative, for binary classification. Code of the data loader has been provided in the template. You can modify the data loading part to use different tokenizer."
   ]
  },
  {
   "cell_type": "code",
   "execution_count": 1,
   "metadata": {
    "id": "vyps0ASzWrIR"
   },
   "outputs": [
    {
     "data": {
      "text/plain": [
       "\"\\n# You need package torchdata for this homework\\n# To avoid loading it every time, you can install torchdata to a path on google drive\\nimport os\\nfrom google.colab import drive\\ndrive.mount('/content/drive')\\npkg_path = '/content/drive/MyDrive/DIR_FOR_PKGS'\\n!pip install --target=$pkg_path torchdata\\n\\n# Append the path to the sys path to load the pkg without re-installation\\nimport sys\\npkg_path = '/content/drive/MyDrive/DIR_FOR_PKGS'\\nsys.path.append(pkg_path)\\nimport torchdata\\n\""
      ]
     },
     "execution_count": 1,
     "metadata": {},
     "output_type": "execute_result"
    }
   ],
   "source": [
    "'''\n",
    "# You need package torchdata for this homework\n",
    "# To avoid loading it every time, you can install torchdata to a path on google drive\n",
    "import os\n",
    "from google.colab import drive\n",
    "drive.mount('/content/drive')\n",
    "pkg_path = '/content/drive/MyDrive/DIR_FOR_PKGS'\n",
    "!pip install --target=$pkg_path torchdata\n",
    "\n",
    "# Append the path to the sys path to load the pkg without re-installation\n",
    "import sys\n",
    "pkg_path = '/content/drive/MyDrive/DIR_FOR_PKGS'\n",
    "sys.path.append(pkg_path)\n",
    "import torchdata\n",
    "'''"
   ]
  },
  {
   "cell_type": "code",
   "execution_count": 2,
   "metadata": {
    "colab": {
     "base_uri": "https://localhost:8080/"
    },
    "id": "g_3xFeJ3Fzgn",
    "outputId": "7e0539fc-a2bc-474a-8a71-8e1f1307092a"
   },
   "outputs": [],
   "source": [
    "# Mount your drive\n",
    "import os\n",
    "import sys\n",
    "#from google.colab import drive\n",
    "#drive.mount('/content/drive')\n",
    "pkg_path = '/content/drive/MyDrive/DIR_FOR_PKGS' #Please specify the path where you installed torchdata\n",
    "sys.path.append(pkg_path)"
   ]
  },
  {
   "cell_type": "code",
   "execution_count": 3,
   "metadata": {
    "id": "MRzytmA9F5Ko"
   },
   "outputs": [],
   "source": [
    "# Package Loading\n",
    "# Feel free to add pakcages\n",
    "import torchdata\n",
    "import torch\n",
    "import torch.nn as nn\n",
    "import torchtext.transforms as T\n",
    "import torchtext.functional as F\n",
    "from torchtext.datasets import SST2\n",
    "from torch.utils.data import DataLoader\n",
    "from torch.hub import load_state_dict_from_url\n",
    "device = torch.device(\"cuda\") if torch.cuda.is_available() else torch.device(\"cpu\")"
   ]
  },
  {
   "cell_type": "code",
   "execution_count": 4,
   "metadata": {
    "id": "zLGsNcZ6F7Vj"
   },
   "outputs": [],
   "source": [
    "# Prepare data loader\n",
    "# Feel free to modify the data loading process as needed\n",
    "padding_idx = 1\n",
    "bos_idx = 0\n",
    "eos_idx = 2\n",
    "batch_size = 16\n",
    "max_seq_len = 256\n",
    "# You can use other Tokenizer\n",
    "xlmr_vocab_path = r\"https://download.pytorch.org/models/text/xlmr.vocab.pt\"\n",
    "xlmr_spm_model_path = r\"https://download.pytorch.org/models/text/xlmr.sentencepiece.bpe.model\"\n",
    "xmlr_vocab = load_state_dict_from_url(xlmr_vocab_path)\n",
    "\n",
    "text_transform = T.Sequential(\n",
    "    T.SentencePieceTokenizer(xlmr_spm_model_path),\n",
    "    T.VocabTransform(xmlr_vocab),\n",
    "    T.Truncate(max_seq_len - 2),\n",
    "    T.AddToken(token=bos_idx, begin=True),\n",
    "    T.AddToken(token=eos_idx, begin=False),\n",
    ")\n",
    "\n",
    "train_datapipe = SST2(split=\"train\")\n",
    "test_datapipe = SST2(split=\"dev\")\n",
    "\n",
    "def apply_transform(x):\n",
    "    return text_transform(x[0]), x[1]\n",
    "\n",
    "train_datapipe = train_datapipe.map(apply_transform)\n",
    "train_datapipe = train_datapipe.batch(batch_size)\n",
    "train_datapipe = train_datapipe.rows2columnar([\"token_ids\", \"target\"])\n",
    "train_dataloader = DataLoader(train_datapipe, batch_size=None)\n",
    "\n",
    "test_datapipe = test_datapipe.map(apply_transform)\n",
    "test_datapipe = test_datapipe.batch(batch_size)\n",
    "test_datapipe = test_datapipe.rows2columnar([\"token_ids\", \"target\"])\n",
    "test_dataloader = DataLoader(test_datapipe, batch_size=None)"
   ]
  },
  {
   "cell_type": "markdown",
   "metadata": {
    "id": "QzU9SoM_fkAg"
   },
   "source": [
    "### **Problem Description.** Implement **LSTM** with Pytorch to do binary classification.\n",
    "\n",
    "### (a) (15 points) Print the model architecture."
   ]
  },
  {
   "cell_type": "code",
   "execution_count": 5,
   "metadata": {},
   "outputs": [],
   "source": [
    "class lstm(nn.Module):\n",
    "\n",
    "\tdef __init__(self, hidden_dim,embediing ,voc = 250003):\n",
    "\t\tsuper(lstm, self).__init__()\n",
    "\t\tself.hidden_dim = hidden_dim\n",
    "\t\tself.LSTM_layers = 1\n",
    "\t\tself.input_size = voc \n",
    "\t\tself.embedding_value = embediing\n",
    "\t\tself.embedding = nn.Embedding(self.input_size, embediing)\n",
    "\t\tself.lstm = nn.LSTM(input_size=self.embedding_value, hidden_size=self.hidden_dim, num_layers=self.LSTM_layers, batch_first=True)\n",
    "\t\tself.fc1 = nn.Linear(in_features=self.hidden_dim, out_features=2)\n",
    "\t\t\n",
    "\tdef forward(self, x):\n",
    "\t\n",
    "\t\th = torch.zeros((self.LSTM_layers, x.size(0), self.hidden_dim))\n",
    "\t\tc = torch.zeros((self.LSTM_layers, x.size(0), self.hidden_dim))\n",
    "\t\t\n",
    "\t\ttorch.nn.init.xavier_normal_(h)\n",
    "\t\ttorch.nn.init.xavier_normal_(c)\n",
    "\n",
    "\t\tout = self.embedding(x)\n",
    "\t\tout, (hidden, cell) = self.lstm(out, (h,c))\n",
    "\t\treturn self.fc1(out[:,-1])"
   ]
  },
  {
   "cell_type": "code",
   "execution_count": 6,
   "metadata": {
    "id": "aRLxw5LIf_ml"
   },
   "outputs": [
    {
     "name": "stdout",
     "output_type": "stream",
     "text": [
      "lstm(\n",
      "  (embedding): Embedding(250003, 128)\n",
      "  (lstm): LSTM(128, 64, batch_first=True)\n",
      "  (fc1): Linear(in_features=64, out_features=2, bias=True)\n",
      ")\n"
     ]
    }
   ],
   "source": [
    "model = lstm(64,128)\n",
    "print(model)"
   ]
  },
  {
   "cell_type": "markdown",
   "metadata": {
    "id": "vSd9yYv8fu2K"
   },
   "source": [
    "### (b) (10 points) Report the hyper-parameters (number of epochs, learning rate, momentum, weight_decay etc)."
   ]
  },
  {
   "cell_type": "markdown",
   "metadata": {
    "id": "nyaK8gHOgch-"
   },
   "source": [
    "Answer: learning rate: 0.1, epoch: 10, momentum:0.9\n",
    "hidden: 32, embeding:32"
   ]
  },
  {
   "cell_type": "markdown",
   "metadata": {
    "id": "NWkYLZMxgapU"
   },
   "source": [
    "### (c) (60 points) Report the **Average Test Loss** after every training epoch by generating Average Test Loss vs. Epoch plot. Please report at least **10** epochs. Note that **Average Test Loss** is based on the test set.\n"
   ]
  },
  {
   "cell_type": "code",
   "execution_count": 7,
   "metadata": {},
   "outputs": [],
   "source": [
    "import torchtext.functional as F\n",
    "from torch.optim import SGD\n",
    "learning_rate = 0.1\n",
    "optim = SGD(model.parameters(), lr=learning_rate)\n",
    "criteria = nn.CrossEntropyLoss()\n",
    "\n",
    "\n",
    "def train_step(input, target):\n",
    "    \n",
    "    output = model(input)\n",
    "    loss = criteria(output, target)\n",
    "    \n",
    "    optim.zero_grad()\n",
    "    loss.backward()\n",
    "    optim.step()\n",
    "\n",
    "\n",
    "def eval_step(input, target):\n",
    "    output = model(input)\n",
    "\n",
    "    loss = criteria(output, target).item()\n",
    "    return float(loss), (output.argmax(1) == target).type(torch.float).sum().item()\n",
    "\n",
    "\n",
    "def evaluate():\n",
    "    model.eval()\n",
    "    total_loss = 0\n",
    "    correct_predictions = 0\n",
    "    total_predictions = 0\n",
    "    counter = 0\n",
    "    with torch.no_grad():\n",
    "        for batch in test_dataloader:\n",
    "            input = F.to_tensor(batch[\"token_ids\"], padding_value=padding_idx)\n",
    "            target = torch.tensor(batch[\"target\"])\n",
    "\n",
    "            loss, predictions = eval_step(input, target)\n",
    "            total_loss += loss\n",
    "            correct_predictions += predictions\n",
    "            total_predictions += len(target)\n",
    "            counter += 1\n",
    "\n",
    "    return total_loss / counter, correct_predictions / total_predictions"
   ]
  },
  {
   "cell_type": "code",
   "execution_count": 8,
   "metadata": {},
   "outputs": [
    {
     "name": "stdout",
     "output_type": "stream",
     "text": [
      "Epoch = [0], loss = [0.7020275657827204], accuracy = [0.5091743119266054]\n",
      "Epoch = [1], loss = [0.6076282273639332], accuracy = [0.6754587155963303]\n",
      "Epoch = [2], loss = [0.5346441355618563], accuracy = [0.7396788990825688]\n",
      "Epoch = [3], loss = [0.5395321501926942], accuracy = [0.7660550458715596]\n",
      "Epoch = [4], loss = [0.5563089156692679], accuracy = [0.7717889908256881]\n",
      "Epoch = [5], loss = [0.555206329443238], accuracy = [0.7889908256880734]\n",
      "Epoch = [6], loss = [0.6734230584718964], accuracy = [0.7740825688073395]\n",
      "Epoch = [7], loss = [0.6193433467637409], accuracy = [0.7855504587155964]\n",
      "Epoch = [8], loss = [0.7021702525290576], accuracy = [0.7775229357798165]\n",
      "Epoch = [9], loss = [0.7293656604533846], accuracy = [0.7809633027522935]\n"
     ]
    }
   ],
   "source": [
    "lost_list = []\n",
    "for e in range(10):\n",
    "    for batch in train_dataloader:\n",
    "        input = F.to_tensor(batch[\"token_ids\"], padding_value=padding_idx)\n",
    "        target = torch.tensor(batch[\"target\"])\n",
    "        #target = torch.reshape(target,(len(target),1))\n",
    "        train_step(input, target)\n",
    "    loss, accuracy = evaluate()\n",
    "    lost_list.append(loss)\n",
    "    print(\"Epoch = [{}], loss = [{}], accuracy = [{}]\".format(e, loss, accuracy))"
   ]
  },
  {
   "cell_type": "markdown",
   "metadata": {},
   "source": [
    "### (c) (60 points) Report the **Average Test Loss** after every training epoch by generating Average Test Loss vs. Epoch plot. Please report at least **10** epochs. Note that **Average Test Loss** is based on the test set."
   ]
  },
  {
   "cell_type": "code",
   "execution_count": 11,
   "metadata": {
    "scrolled": true
   },
   "outputs": [
    {
     "data": {
      "text/plain": [
       "[<matplotlib.lines.Line2D at 0x7fd951682910>]"
      ]
     },
     "execution_count": 11,
     "metadata": {},
     "output_type": "execute_result"
    },
    {
     "data": {
      "image/png": "[encoded data removed]",
      "text/plain": [
       "<Figure size 432x288 with 1 Axes>"
      ]
     },
     "metadata": {
      "needs_background": "light"
     },
     "output_type": "display_data"
    }
   ],
   "source": [
    "import matplotlib.pyplot as plt\n",
    "x_axis = [x for x in range(10)]\n",
    "plt.plot(x_axis, lost_list)"
   ]
  },
  {
   "cell_type": "markdown",
   "metadata": {
    "id": "Rv2InAYwg5j1"
   },
   "source": [
    "### (d) (15 points) Report the final testing accuracy of trained model."
   ]
  },
  {
   "cell_type": "code",
   "execution_count": 12,
   "metadata": {},
   "outputs": [
    {
     "name": "stdout",
     "output_type": "stream",
     "text": [
      "0.7809633027522935\n"
     ]
    }
   ],
   "source": [
    "print(accuracy)"
   ]
  },
  {
   "cell_type": "markdown",
   "metadata": {
    "id": "0bt2-kE9hHtB"
   },
   "source": [
    "Answer: Hence, the final testing accuracy is 0.7809633027522935."
   ]
  }
 ],
 "metadata": {
  "colab": {
   "collapsed_sections": [],
   "provenance": []
  },
  "kernelspec": {
   "display_name": "Python 3 (ipykernel)",
   "language": "python",
   "name": "python3"
  },
  "language_info": {
   "codemirror_mode": {
    "name": "ipython",
    "version": 3
   },
   "file_extension": ".py",
   "mimetype": "text/x-python",
   "name": "python",
   "nbconvert_exporter": "python",
   "pygments_lexer": "ipython3",
   "version": "3.9.12"
  }
 },
 "nbformat": 4,
 "nbformat_minor": 1
}
